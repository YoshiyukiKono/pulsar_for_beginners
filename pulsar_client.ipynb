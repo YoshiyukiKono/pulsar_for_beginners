{
  "nbformat": 4,
  "nbformat_minor": 0,
  "metadata": {
    "colab": {
      "provenance": [],
      "include_colab_link": true
    },
    "kernelspec": {
      "name": "python3",
      "display_name": "Python 3"
    },
    "language_info": {
      "name": "python"
    }
  },
  "cells": [
    {
      "cell_type": "markdown",
      "metadata": {
        "id": "view-in-github",
        "colab_type": "text"
      },
      "source": [
        "<a href=\"https://colab.research.google.com/github/YoshiyukiKono/pulsar_for_beginners/blob/main/pulsar_client.ipynb\" target=\"_parent\"><img src=\"https://colab.research.google.com/assets/colab-badge.svg\" alt=\"Open In Colab\"/></a>"
      ]
    },
    {
      "cell_type": "code",
      "source": [
        "!pip install pulsar-client"
      ],
      "metadata": {
        "colab": {
          "base_uri": "https://localhost:8080/"
        },
        "id": "GSMV-zHNZW8U",
        "outputId": "ea46bbcf-8628-4017-9748-55e1404370df"
      },
      "execution_count": 1,
      "outputs": [
        {
          "output_type": "stream",
          "name": "stdout",
          "text": [
            "Collecting pulsar-client\n",
            "  Downloading pulsar_client-3.3.0-cp310-cp310-manylinux_2_17_x86_64.manylinux2014_x86_64.whl (5.4 MB)\n",
            "\u001b[2K     \u001b[90m━━━━━━━━━━━━━━━━━━━━━━━━━━━━━━━━━━━━━━━━\u001b[0m \u001b[32m5.4/5.4 MB\u001b[0m \u001b[31m30.2 MB/s\u001b[0m eta \u001b[36m0:00:00\u001b[0m\n",
            "\u001b[?25hRequirement already satisfied: certifi in /usr/local/lib/python3.10/dist-packages (from pulsar-client) (2023.7.22)\n",
            "Installing collected packages: pulsar-client\n",
            "Successfully installed pulsar-client-3.3.0\n"
          ]
        }
      ]
    },
    {
      "cell_type": "code",
      "source": [
        "service_url = input(\"service url\")\n"
      ],
      "metadata": {
        "id": "GHCnV6Muaix-",
        "outputId": "42330978-4d50-4c53-d27c-d13fc7ec8ee9",
        "colab": {
          "base_uri": "https://localhost:8080/"
        }
      },
      "execution_count": 2,
      "outputs": [
        {
          "name": "stdout",
          "output_type": "stream",
          "text": [
            "service urlpulsar+ssl://pulsar-gcp-australiase1.streaming.datastax.com:6651\n"
          ]
        }
      ]
    },
    {
      "cell_type": "code",
      "source": [
        "import getpass\n",
        "\n",
        "token = getpass.getpass()"
      ],
      "metadata": {
        "id": "xRkA8DkPajAg",
        "outputId": "890aa700-cf00-47b7-affb-55d9d912121c",
        "colab": {
          "base_uri": "https://localhost:8080/"
        }
      },
      "execution_count": 38,
      "outputs": [
        {
          "name": "stdout",
          "output_type": "stream",
          "text": [
            "··········\n"
          ]
        }
      ]
    },
    {
      "cell_type": "code",
      "source": [
        "print(len(token))"
      ],
      "metadata": {
        "id": "sQZ_nubPrOpC",
        "outputId": "5384ceb6-22f9-418c-9ff1-ff2d4dc90b04",
        "colab": {
          "base_uri": "https://localhost:8080/"
        }
      },
      "execution_count": 39,
      "outputs": [
        {
          "output_type": "stream",
          "name": "stdout",
          "text": [
            "548\n"
          ]
        }
      ]
    },
    {
      "cell_type": "code",
      "source": [],
      "metadata": {
        "id": "M3JIyBbGrTGH"
      },
      "execution_count": null,
      "outputs": []
    },
    {
      "cell_type": "code",
      "source": [
        "your_tenant_name = input(\"tenant name:\")\n",
        "your_namespace = input(\"namespace:\")"
      ],
      "metadata": {
        "id": "tOLQ_vIhmzSN",
        "outputId": "2423ff8c-e478-463a-caa0-b06df7b582c8",
        "colab": {
          "base_uri": "https://localhost:8080/"
        }
      },
      "execution_count": 4,
      "outputs": [
        {
          "name": "stdout",
          "output_type": "stream",
          "text": [
            "tenant namecdc\n",
            "namespacedefault\n"
          ]
        }
      ]
    },
    {
      "cell_type": "code",
      "source": [
        "\n",
        "your_topic_name = input(\"topic name:\")"
      ],
      "metadata": {
        "id": "SgsrE9D_nIZY",
        "outputId": "cb11f551-60b2-4473-9c5a-9a94cd2670c9",
        "colab": {
          "base_uri": "https://localhost:8080/"
        }
      },
      "execution_count": 6,
      "outputs": [
        {
          "name": "stdout",
          "output_type": "stream",
          "text": [
            "topic name:astrasink\n"
          ]
        }
      ]
    },
    {
      "cell_type": "code",
      "source": [
        "\n",
        "topic_url = 'persistent://' + your_tenant_name + '/' + your_namespace + '/' + your_topic_name\n",
        "print(topic_url)"
      ],
      "metadata": {
        "id": "7ObGj9_CnW_W",
        "outputId": "deb14f65-9374-40b8-a93b-cab15a892dcc",
        "colab": {
          "base_uri": "https://localhost:8080/"
        }
      },
      "execution_count": 7,
      "outputs": [
        {
          "output_type": "stream",
          "name": "stdout",
          "text": [
            "persistent://cdc/default/astrasink\n"
          ]
        }
      ]
    },
    {
      "cell_type": "code",
      "source": [
        "import pulsar\n",
        "\n",
        "print(service_url)\n",
        "client = pulsar.Client(service_url,\n",
        "                        authentication=pulsar.AuthenticationToken(token))"
      ],
      "metadata": {
        "id": "k3DxYZlSnc6W",
        "outputId": "a4d4077e-0f3a-49fb-ccc5-0e9b054d1d9c",
        "colab": {
          "base_uri": "https://localhost:8080/"
        }
      },
      "execution_count": 40,
      "outputs": [
        {
          "output_type": "stream",
          "name": "stdout",
          "text": [
            "pulsar+ssl://pulsar-gcp-useast1.streaming.datastax.com:6651\n"
          ]
        }
      ]
    },
    {
      "cell_type": "code",
      "source": [
        "service_url = 'pulsar+ssl://pulsar-gcp-useast1.streaming.datastax.com:6651'\n",
        "\n",
        "client = pulsar.Client(service_url,\n",
        "                        authentication=pulsar.AuthenticationToken(token))\n"
      ],
      "metadata": {
        "id": "kUUFXruFpyQy"
      },
      "execution_count": 32,
      "outputs": []
    },
    {
      "cell_type": "code",
      "source": [
        "service_url = 'pulsar+ssl://pulsar-gcp-useast1.streaming.datastax.com:6651'\n",
        "\n",
        "client = pulsar.Client(service_url,\n",
        "                        authentication=pulsar.AuthenticationToken(token))\n"
      ],
      "metadata": {
        "id": "V-6qef1AqNom"
      },
      "execution_count": 35,
      "outputs": []
    },
    {
      "cell_type": "code",
      "source": [
        "topic_partitions = client.get_topic_partitions(topic_url)\n",
        "print(topic_partitions)"
      ],
      "metadata": {
        "id": "3nt0uLoapIe3",
        "outputId": "bfe0be54-8d9c-4e53-f2d0-9fced2f26031",
        "colab": {
          "base_uri": "https://localhost:8080/"
        }
      },
      "execution_count": 49,
      "outputs": [
        {
          "output_type": "stream",
          "name": "stdout",
          "text": [
            "['persistent://cdc/default/astrasink']\n"
          ]
        }
      ]
    },
    {
      "cell_type": "code",
      "source": [
        "consumer = client.subscribe('persistent://cdc/default/astrasink', 'test-subscription')"
      ],
      "metadata": {
        "id": "LeehOHXqqTmi"
      },
      "execution_count": 41,
      "outputs": []
    },
    {
      "cell_type": "code",
      "source": [
        "producer = client.create_producer('persistent://cdc/default/astrasink')"
      ],
      "metadata": {
        "id": "tkEKLmG9pr6E"
      },
      "execution_count": 43,
      "outputs": []
    },
    {
      "cell_type": "code",
      "source": [
        "print(token[0:5] + \"...\" + token[-5:])"
      ],
      "metadata": {
        "id": "3LmFlwLdqSz2",
        "outputId": "dae6a04c-9a5b-47a0-b43d-61a28adb40c7",
        "colab": {
          "base_uri": "https://localhost:8080/"
        }
      },
      "execution_count": 47,
      "outputs": [
        {
          "output_type": "stream",
          "name": "stdout",
          "text": [
            "eyJhb...euW8Q\n"
          ]
        }
      ]
    },
    {
      "cell_type": "code",
      "source": [
        "from pulsar.schema import *\n",
        "\n",
        "class Message(Record):\n",
        "    message_id = String()\n",
        "    message = String()"
      ],
      "metadata": {
        "id": "3EHcGW6JnyMu"
      },
      "execution_count": 50,
      "outputs": []
    },
    {
      "cell_type": "code",
      "source": [
        "producer = client.create_producer(topic_url,schema=JsonSchema(Message))"
      ],
      "metadata": {
        "id": "tqS3zd2poEwP"
      },
      "execution_count": 51,
      "outputs": []
    },
    {
      "cell_type": "code",
      "source": [
        "import random\n",
        "import datetime\n",
        "\n",
        "#example = Example()\n",
        "#example.a = 'Kono'\n",
        "\n",
        "message = Message()\n",
        "\n",
        "\n",
        "for i in range(100):\n",
        "    message.message_id = str(i)\n",
        "    message.message = \"Hello\" + str(i)\n",
        "    producer.send(message)\n",
        "\n"
      ],
      "metadata": {
        "id": "IGC6xkiFoJk2"
      },
      "execution_count": 56,
      "outputs": []
    },
    {
      "cell_type": "code",
      "source": [
        "import pulsar\n",
        "import time\n",
        "\n",
        "MODE_RUNNING = True\n",
        "\n",
        "subscription_name = \"sub\"\n",
        "consumer = client.subscribe(topic_url, subscription_name)\n",
        "\n",
        "\n",
        "try:\n",
        "    waitingForMsg = True\n",
        "    while waitingForMsg:\n",
        "        try:\n",
        "            msg = consumer.receive(2000)\n",
        "\n",
        "            try:\n",
        "                print(\"Received message '{}' id='{}'\".format(msg.data(), msg.message_id()))\n",
        "                # Acknowledging the message to remove from message backlog\n",
        "                consumer.acknowledge(msg)\n",
        "            except:\n",
        "                consumer.negative_acknowledge(msg)\n",
        "\n",
        "        except Exception as ex:\n",
        "            print(ex)\n",
        "            if MODE_RUNNING:\n",
        "                print(\"Still waiting for a message...\");\n",
        "            else:\n",
        "                print(\"Stop waiting for a message.\");\n",
        "                waitingForMsg = False\n",
        "        time.sleep(1)\n",
        "\n",
        "finally:\n",
        "  consumer.close()"
      ],
      "metadata": {
        "id": "ExShWr1jvEB7",
        "outputId": "a8b71fb4-13d8-487d-e0fd-3de1136839ae",
        "colab": {
          "base_uri": "https://localhost:8080/",
          "height": 1000
        }
      },
      "execution_count": 57,
      "outputs": [
        {
          "output_type": "stream",
          "name": "stdout",
          "text": [
            "Received message 'b'{\\n \"message_id\": \"0\",\\n \"message\": \"Hello0\"\\n}'' id='(435228,201,-1,-1)'\n",
            "Received message 'b'{\\n \"message_id\": \"1\",\\n \"message\": \"Hello1\"\\n}'' id='(435228,202,-1,-1)'\n",
            "Received message 'b'{\\n \"message_id\": \"2\",\\n \"message\": \"Hello2\"\\n}'' id='(435228,203,-1,-1)'\n",
            "Received message 'b'{\\n \"message_id\": \"3\",\\n \"message\": \"Hello3\"\\n}'' id='(435228,204,-1,-1)'\n",
            "Received message 'b'{\\n \"message_id\": \"4\",\\n \"message\": \"Hello4\"\\n}'' id='(435228,205,-1,-1)'\n",
            "Received message 'b'{\\n \"message_id\": \"5\",\\n \"message\": \"Hello5\"\\n}'' id='(435228,206,-1,-1)'\n",
            "Received message 'b'{\\n \"message_id\": \"6\",\\n \"message\": \"Hello6\"\\n}'' id='(435228,207,-1,-1)'\n",
            "Received message 'b'{\\n \"message_id\": \"7\",\\n \"message\": \"Hello7\"\\n}'' id='(435228,208,-1,-1)'\n",
            "Received message 'b'{\\n \"message_id\": \"8\",\\n \"message\": \"Hello8\"\\n}'' id='(435228,209,-1,-1)'\n",
            "Received message 'b'{\\n \"message_id\": \"9\",\\n \"message\": \"Hello9\"\\n}'' id='(435228,210,-1,-1)'\n",
            "Received message 'b'{\\n \"message_id\": \"10\",\\n \"message\": \"Hello10\"\\n}'' id='(435228,211,-1,-1)'\n",
            "Received message 'b'{\\n \"message_id\": \"11\",\\n \"message\": \"Hello11\"\\n}'' id='(435228,212,-1,-1)'\n",
            "Received message 'b'{\\n \"message_id\": \"12\",\\n \"message\": \"Hello12\"\\n}'' id='(435228,213,-1,-1)'\n",
            "Received message 'b'{\\n \"message_id\": \"13\",\\n \"message\": \"Hello13\"\\n}'' id='(435228,214,-1,-1)'\n",
            "Received message 'b'{\\n \"message_id\": \"14\",\\n \"message\": \"Hello14\"\\n}'' id='(435228,215,-1,-1)'\n",
            "Received message 'b'{\\n \"message_id\": \"15\",\\n \"message\": \"Hello15\"\\n}'' id='(435228,216,-1,-1)'\n",
            "Received message 'b'{\\n \"message_id\": \"16\",\\n \"message\": \"Hello16\"\\n}'' id='(435228,217,-1,-1)'\n",
            "Received message 'b'{\\n \"message_id\": \"17\",\\n \"message\": \"Hello17\"\\n}'' id='(435228,218,-1,-1)'\n",
            "Received message 'b'{\\n \"message_id\": \"18\",\\n \"message\": \"Hello18\"\\n}'' id='(435228,219,-1,-1)'\n",
            "Received message 'b'{\\n \"message_id\": \"19\",\\n \"message\": \"Hello19\"\\n}'' id='(435228,220,-1,-1)'\n",
            "Received message 'b'{\\n \"message_id\": \"20\",\\n \"message\": \"Hello20\"\\n}'' id='(435228,221,-1,-1)'\n",
            "Received message 'b'{\\n \"message_id\": \"21\",\\n \"message\": \"Hello21\"\\n}'' id='(435228,222,-1,-1)'\n",
            "Received message 'b'{\\n \"message_id\": \"22\",\\n \"message\": \"Hello22\"\\n}'' id='(435228,223,-1,-1)'\n",
            "Received message 'b'{\\n \"message_id\": \"23\",\\n \"message\": \"Hello23\"\\n}'' id='(435228,224,-1,-1)'\n",
            "Received message 'b'{\\n \"message_id\": \"24\",\\n \"message\": \"Hello24\"\\n}'' id='(435228,225,-1,-1)'\n",
            "Received message 'b'{\\n \"message_id\": \"25\",\\n \"message\": \"Hello25\"\\n}'' id='(435228,226,-1,-1)'\n",
            "Received message 'b'{\\n \"message_id\": \"26\",\\n \"message\": \"Hello26\"\\n}'' id='(435228,227,-1,-1)'\n",
            "Received message 'b'{\\n \"message_id\": \"27\",\\n \"message\": \"Hello27\"\\n}'' id='(435228,228,-1,-1)'\n",
            "Received message 'b'{\\n \"message_id\": \"28\",\\n \"message\": \"Hello28\"\\n}'' id='(435228,229,-1,-1)'\n",
            "Received message 'b'{\\n \"message_id\": \"29\",\\n \"message\": \"Hello29\"\\n}'' id='(435228,230,-1,-1)'\n",
            "Received message 'b'{\\n \"message_id\": \"30\",\\n \"message\": \"Hello30\"\\n}'' id='(435228,231,-1,-1)'\n",
            "Received message 'b'{\\n \"message_id\": \"31\",\\n \"message\": \"Hello31\"\\n}'' id='(435228,232,-1,-1)'\n",
            "Received message 'b'{\\n \"message_id\": \"32\",\\n \"message\": \"Hello32\"\\n}'' id='(435228,233,-1,-1)'\n",
            "Received message 'b'{\\n \"message_id\": \"33\",\\n \"message\": \"Hello33\"\\n}'' id='(435228,234,-1,-1)'\n",
            "Received message 'b'{\\n \"message_id\": \"34\",\\n \"message\": \"Hello34\"\\n}'' id='(435228,235,-1,-1)'\n",
            "Received message 'b'{\\n \"message_id\": \"35\",\\n \"message\": \"Hello35\"\\n}'' id='(435228,236,-1,-1)'\n",
            "Received message 'b'{\\n \"message_id\": \"36\",\\n \"message\": \"Hello36\"\\n}'' id='(435228,237,-1,-1)'\n",
            "Received message 'b'{\\n \"message_id\": \"37\",\\n \"message\": \"Hello37\"\\n}'' id='(435228,238,-1,-1)'\n",
            "Received message 'b'{\\n \"message_id\": \"38\",\\n \"message\": \"Hello38\"\\n}'' id='(435228,239,-1,-1)'\n",
            "Received message 'b'{\\n \"message_id\": \"39\",\\n \"message\": \"Hello39\"\\n}'' id='(435228,240,-1,-1)'\n",
            "Received message 'b'{\\n \"message_id\": \"40\",\\n \"message\": \"Hello40\"\\n}'' id='(435228,241,-1,-1)'\n",
            "Received message 'b'{\\n \"message_id\": \"41\",\\n \"message\": \"Hello41\"\\n}'' id='(435228,242,-1,-1)'\n",
            "Received message 'b'{\\n \"message_id\": \"42\",\\n \"message\": \"Hello42\"\\n}'' id='(435228,243,-1,-1)'\n",
            "Received message 'b'{\\n \"message_id\": \"43\",\\n \"message\": \"Hello43\"\\n}'' id='(435228,244,-1,-1)'\n",
            "Received message 'b'{\\n \"message_id\": \"44\",\\n \"message\": \"Hello44\"\\n}'' id='(435228,245,-1,-1)'\n",
            "Received message 'b'{\\n \"message_id\": \"45\",\\n \"message\": \"Hello45\"\\n}'' id='(435228,246,-1,-1)'\n",
            "Received message 'b'{\\n \"message_id\": \"46\",\\n \"message\": \"Hello46\"\\n}'' id='(435228,247,-1,-1)'\n",
            "Received message 'b'{\\n \"message_id\": \"47\",\\n \"message\": \"Hello47\"\\n}'' id='(435228,248,-1,-1)'\n",
            "Received message 'b'{\\n \"message_id\": \"48\",\\n \"message\": \"Hello48\"\\n}'' id='(435228,249,-1,-1)'\n",
            "Received message 'b'{\\n \"message_id\": \"49\",\\n \"message\": \"Hello49\"\\n}'' id='(435228,250,-1,-1)'\n",
            "Received message 'b'{\\n \"message_id\": \"50\",\\n \"message\": \"Hello50\"\\n}'' id='(435228,251,-1,-1)'\n",
            "Received message 'b'{\\n \"message_id\": \"51\",\\n \"message\": \"Hello51\"\\n}'' id='(435228,252,-1,-1)'\n",
            "Received message 'b'{\\n \"message_id\": \"52\",\\n \"message\": \"Hello52\"\\n}'' id='(435228,253,-1,-1)'\n",
            "Received message 'b'{\\n \"message_id\": \"53\",\\n \"message\": \"Hello53\"\\n}'' id='(435228,254,-1,-1)'\n",
            "Received message 'b'{\\n \"message_id\": \"54\",\\n \"message\": \"Hello54\"\\n}'' id='(435228,255,-1,-1)'\n",
            "Received message 'b'{\\n \"message_id\": \"55\",\\n \"message\": \"Hello55\"\\n}'' id='(435228,256,-1,-1)'\n",
            "Received message 'b'{\\n \"message_id\": \"56\",\\n \"message\": \"Hello56\"\\n}'' id='(435228,257,-1,-1)'\n",
            "Received message 'b'{\\n \"message_id\": \"57\",\\n \"message\": \"Hello57\"\\n}'' id='(435228,258,-1,-1)'\n",
            "Received message 'b'{\\n \"message_id\": \"58\",\\n \"message\": \"Hello58\"\\n}'' id='(435228,259,-1,-1)'\n",
            "Received message 'b'{\\n \"message_id\": \"59\",\\n \"message\": \"Hello59\"\\n}'' id='(435228,260,-1,-1)'\n",
            "Received message 'b'{\\n \"message_id\": \"60\",\\n \"message\": \"Hello60\"\\n}'' id='(435228,261,-1,-1)'\n",
            "Received message 'b'{\\n \"message_id\": \"61\",\\n \"message\": \"Hello61\"\\n}'' id='(435228,262,-1,-1)'\n",
            "Received message 'b'{\\n \"message_id\": \"62\",\\n \"message\": \"Hello62\"\\n}'' id='(435228,263,-1,-1)'\n",
            "Received message 'b'{\\n \"message_id\": \"63\",\\n \"message\": \"Hello63\"\\n}'' id='(435228,264,-1,-1)'\n",
            "Received message 'b'{\\n \"message_id\": \"64\",\\n \"message\": \"Hello64\"\\n}'' id='(435228,265,-1,-1)'\n",
            "Received message 'b'{\\n \"message_id\": \"65\",\\n \"message\": \"Hello65\"\\n}'' id='(435228,266,-1,-1)'\n",
            "Received message 'b'{\\n \"message_id\": \"66\",\\n \"message\": \"Hello66\"\\n}'' id='(435228,267,-1,-1)'\n",
            "Received message 'b'{\\n \"message_id\": \"67\",\\n \"message\": \"Hello67\"\\n}'' id='(435228,268,-1,-1)'\n",
            "Received message 'b'{\\n \"message_id\": \"68\",\\n \"message\": \"Hello68\"\\n}'' id='(435228,269,-1,-1)'\n",
            "Received message 'b'{\\n \"message_id\": \"69\",\\n \"message\": \"Hello69\"\\n}'' id='(435228,270,-1,-1)'\n",
            "Received message 'b'{\\n \"message_id\": \"70\",\\n \"message\": \"Hello70\"\\n}'' id='(435228,271,-1,-1)'\n",
            "Received message 'b'{\\n \"message_id\": \"71\",\\n \"message\": \"Hello71\"\\n}'' id='(435228,272,-1,-1)'\n",
            "Received message 'b'{\\n \"message_id\": \"72\",\\n \"message\": \"Hello72\"\\n}'' id='(435228,273,-1,-1)'\n",
            "Received message 'b'{\\n \"message_id\": \"73\",\\n \"message\": \"Hello73\"\\n}'' id='(435228,274,-1,-1)'\n",
            "Received message 'b'{\\n \"message_id\": \"74\",\\n \"message\": \"Hello74\"\\n}'' id='(435228,275,-1,-1)'\n",
            "Received message 'b'{\\n \"message_id\": \"75\",\\n \"message\": \"Hello75\"\\n}'' id='(435228,276,-1,-1)'\n",
            "Received message 'b'{\\n \"message_id\": \"76\",\\n \"message\": \"Hello76\"\\n}'' id='(435228,277,-1,-1)'\n",
            "Received message 'b'{\\n \"message_id\": \"77\",\\n \"message\": \"Hello77\"\\n}'' id='(435228,278,-1,-1)'\n",
            "Received message 'b'{\\n \"message_id\": \"78\",\\n \"message\": \"Hello78\"\\n}'' id='(435228,279,-1,-1)'\n",
            "Received message 'b'{\\n \"message_id\": \"79\",\\n \"message\": \"Hello79\"\\n}'' id='(435228,280,-1,-1)'\n",
            "Received message 'b'{\\n \"message_id\": \"80\",\\n \"message\": \"Hello80\"\\n}'' id='(435228,281,-1,-1)'\n",
            "Received message 'b'{\\n \"message_id\": \"81\",\\n \"message\": \"Hello81\"\\n}'' id='(435228,282,-1,-1)'\n",
            "Received message 'b'{\\n \"message_id\": \"82\",\\n \"message\": \"Hello82\"\\n}'' id='(435228,283,-1,-1)'\n",
            "Received message 'b'{\\n \"message_id\": \"83\",\\n \"message\": \"Hello83\"\\n}'' id='(435228,284,-1,-1)'\n",
            "Received message 'b'{\\n \"message_id\": \"84\",\\n \"message\": \"Hello84\"\\n}'' id='(435228,285,-1,-1)'\n",
            "Received message 'b'{\\n \"message_id\": \"85\",\\n \"message\": \"Hello85\"\\n}'' id='(435228,286,-1,-1)'\n",
            "Received message 'b'{\\n \"message_id\": \"86\",\\n \"message\": \"Hello86\"\\n}'' id='(435228,287,-1,-1)'\n",
            "Received message 'b'{\\n \"message_id\": \"87\",\\n \"message\": \"Hello87\"\\n}'' id='(435228,288,-1,-1)'\n",
            "Received message 'b'{\\n \"message_id\": \"88\",\\n \"message\": \"Hello88\"\\n}'' id='(435228,289,-1,-1)'\n",
            "Received message 'b'{\\n \"message_id\": \"89\",\\n \"message\": \"Hello89\"\\n}'' id='(435228,290,-1,-1)'\n",
            "Received message 'b'{\\n \"message_id\": \"90\",\\n \"message\": \"Hello90\"\\n}'' id='(435228,291,-1,-1)'\n",
            "Received message 'b'{\\n \"message_id\": \"91\",\\n \"message\": \"Hello91\"\\n}'' id='(435228,292,-1,-1)'\n",
            "Received message 'b'{\\n \"message_id\": \"92\",\\n \"message\": \"Hello92\"\\n}'' id='(435228,293,-1,-1)'\n",
            "Received message 'b'{\\n \"message_id\": \"93\",\\n \"message\": \"Hello93\"\\n}'' id='(435228,294,-1,-1)'\n",
            "Received message 'b'{\\n \"message_id\": \"94\",\\n \"message\": \"Hello94\"\\n}'' id='(435228,295,-1,-1)'\n",
            "Received message 'b'{\\n \"message_id\": \"95\",\\n \"message\": \"Hello95\"\\n}'' id='(435228,296,-1,-1)'\n",
            "Received message 'b'{\\n \"message_id\": \"96\",\\n \"message\": \"Hello96\"\\n}'' id='(435228,297,-1,-1)'\n",
            "Received message 'b'{\\n \"message_id\": \"97\",\\n \"message\": \"Hello97\"\\n}'' id='(435228,298,-1,-1)'\n",
            "Received message 'b'{\\n \"message_id\": \"98\",\\n \"message\": \"Hello98\"\\n}'' id='(435228,299,-1,-1)'\n",
            "Received message 'b'{\\n \"message_id\": \"99\",\\n \"message\": \"Hello99\"\\n}'' id='(435228,300,-1,-1)'\n",
            "Pulsar error: TimeOut\n",
            "Still waiting for a message...\n",
            "Pulsar error: TimeOut\n",
            "Still waiting for a message...\n",
            "Pulsar error: TimeOut\n",
            "Still waiting for a message...\n",
            "Pulsar error: TimeOut\n",
            "Still waiting for a message...\n",
            "Pulsar error: TimeOut\n",
            "Still waiting for a message...\n",
            "Pulsar error: TimeOut\n",
            "Still waiting for a message...\n",
            "Pulsar error: TimeOut\n",
            "Still waiting for a message...\n",
            "Pulsar error: TimeOut\n",
            "Still waiting for a message...\n",
            "Pulsar error: TimeOut\n",
            "Still waiting for a message...\n",
            "Pulsar error: TimeOut\n",
            "Still waiting for a message...\n",
            "Pulsar error: TimeOut\n",
            "Still waiting for a message...\n",
            "Pulsar error: TimeOut\n",
            "Still waiting for a message...\n",
            "Pulsar error: TimeOut\n",
            "Still waiting for a message...\n",
            "Pulsar error: TimeOut\n",
            "Still waiting for a message...\n",
            "Pulsar error: TimeOut\n",
            "Still waiting for a message...\n",
            "Pulsar error: TimeOut\n",
            "Still waiting for a message...\n",
            "Pulsar error: TimeOut\n",
            "Still waiting for a message...\n",
            "Pulsar error: TimeOut\n",
            "Still waiting for a message...\n",
            "Pulsar error: TimeOut\n",
            "Still waiting for a message...\n"
          ]
        },
        {
          "output_type": "error",
          "ename": "KeyboardInterrupt",
          "evalue": "ignored",
          "traceback": [
            "\u001b[0;31m---------------------------------------------------------------------------\u001b[0m",
            "\u001b[0;31mTimeout\u001b[0m                                   Traceback (most recent call last)",
            "\u001b[0;32m<ipython-input-57-420deca946b6>\u001b[0m in \u001b[0;36m<cell line: 10>\u001b[0;34m()\u001b[0m\n\u001b[1;32m     13\u001b[0m         \u001b[0;32mtry\u001b[0m\u001b[0;34m:\u001b[0m\u001b[0;34m\u001b[0m\u001b[0;34m\u001b[0m\u001b[0m\n\u001b[0;32m---> 14\u001b[0;31m             \u001b[0mmsg\u001b[0m \u001b[0;34m=\u001b[0m \u001b[0mconsumer\u001b[0m\u001b[0;34m.\u001b[0m\u001b[0mreceive\u001b[0m\u001b[0;34m(\u001b[0m\u001b[0;36m2000\u001b[0m\u001b[0;34m)\u001b[0m\u001b[0;34m\u001b[0m\u001b[0;34m\u001b[0m\u001b[0m\n\u001b[0m\u001b[1;32m     15\u001b[0m \u001b[0;34m\u001b[0m\u001b[0m\n",
            "\u001b[0;32m/usr/local/lib/python3.10/dist-packages/pulsar/__init__.py\u001b[0m in \u001b[0;36mreceive\u001b[0;34m(self, timeout_millis)\u001b[0m\n\u001b[1;32m   1384\u001b[0m             \u001b[0m_check_type\u001b[0m\u001b[0;34m(\u001b[0m\u001b[0mint\u001b[0m\u001b[0;34m,\u001b[0m \u001b[0mtimeout_millis\u001b[0m\u001b[0;34m,\u001b[0m \u001b[0;34m'timeout_millis'\u001b[0m\u001b[0;34m)\u001b[0m\u001b[0;34m\u001b[0m\u001b[0;34m\u001b[0m\u001b[0m\n\u001b[0;32m-> 1385\u001b[0;31m             \u001b[0mmsg\u001b[0m \u001b[0;34m=\u001b[0m \u001b[0mself\u001b[0m\u001b[0;34m.\u001b[0m\u001b[0m_consumer\u001b[0m\u001b[0;34m.\u001b[0m\u001b[0mreceive\u001b[0m\u001b[0;34m(\u001b[0m\u001b[0mtimeout_millis\u001b[0m\u001b[0;34m)\u001b[0m\u001b[0;34m\u001b[0m\u001b[0;34m\u001b[0m\u001b[0m\n\u001b[0m\u001b[1;32m   1386\u001b[0m \u001b[0;34m\u001b[0m\u001b[0m\n",
            "\u001b[0;31mTimeout\u001b[0m: Pulsar error: TimeOut",
            "\nDuring handling of the above exception, another exception occurred:\n",
            "\u001b[0;31mKeyboardInterrupt\u001b[0m                         Traceback (most recent call last)",
            "\u001b[0;32m<ipython-input-57-420deca946b6>\u001b[0m in \u001b[0;36m<cell line: 10>\u001b[0;34m()\u001b[0m\n\u001b[1;32m     12\u001b[0m     \u001b[0;32mwhile\u001b[0m \u001b[0mwaitingForMsg\u001b[0m\u001b[0;34m:\u001b[0m\u001b[0;34m\u001b[0m\u001b[0;34m\u001b[0m\u001b[0m\n\u001b[1;32m     13\u001b[0m         \u001b[0;32mtry\u001b[0m\u001b[0;34m:\u001b[0m\u001b[0;34m\u001b[0m\u001b[0;34m\u001b[0m\u001b[0m\n\u001b[0;32m---> 14\u001b[0;31m             \u001b[0mmsg\u001b[0m \u001b[0;34m=\u001b[0m \u001b[0mconsumer\u001b[0m\u001b[0;34m.\u001b[0m\u001b[0mreceive\u001b[0m\u001b[0;34m(\u001b[0m\u001b[0;36m2000\u001b[0m\u001b[0;34m)\u001b[0m\u001b[0;34m\u001b[0m\u001b[0;34m\u001b[0m\u001b[0m\n\u001b[0m\u001b[1;32m     15\u001b[0m \u001b[0;34m\u001b[0m\u001b[0m\n\u001b[1;32m     16\u001b[0m             \u001b[0;32mtry\u001b[0m\u001b[0;34m:\u001b[0m\u001b[0;34m\u001b[0m\u001b[0;34m\u001b[0m\u001b[0m\n",
            "\u001b[0;31mKeyboardInterrupt\u001b[0m: "
          ]
        }
      ]
    },
    {
      "cell_type": "code",
      "source": [
        "client.close()"
      ],
      "metadata": {
        "id": "qZkFPLVtutls"
      },
      "execution_count": null,
      "outputs": []
    },
    {
      "cell_type": "code",
      "execution_count": null,
      "metadata": {
        "colab": {
          "base_uri": "https://localhost:8080/",
          "height": 433
        },
        "id": "T25MD6tzZRJO",
        "outputId": "384d3ac7-33bf-4a78-8cac-747a65eb3d25"
      },
      "outputs": [
        {
          "output_type": "stream",
          "name": "stdout",
          "text": [
            "start\n"
          ]
        },
        {
          "output_type": "error",
          "ename": "AuthorizationError",
          "evalue": "ignored",
          "traceback": [
            "\u001b[0;31m---------------------------------------------------------------------------\u001b[0m",
            "\u001b[0;31mAuthorizationError\u001b[0m                        Traceback (most recent call last)",
            "\u001b[0;32m<ipython-input-1-d53b9433a9c8>\u001b[0m in \u001b[0;36m<cell line: 33>\u001b[0;34m()\u001b[0m\n\u001b[1;32m     31\u001b[0m \u001b[0;34m\u001b[0m\u001b[0m\n\u001b[1;32m     32\u001b[0m \u001b[0;34m\u001b[0m\u001b[0m\n\u001b[0;32m---> 33\u001b[0;31m \u001b[0mproducer\u001b[0m \u001b[0;34m=\u001b[0m \u001b[0mclient\u001b[0m\u001b[0;34m.\u001b[0m\u001b[0mcreate_producer\u001b[0m\u001b[0;34m(\u001b[0m\u001b[0;34m'persistent://firststream/default/usage'\u001b[0m\u001b[0;34m,\u001b[0m\u001b[0mschema\u001b[0m\u001b[0;34m=\u001b[0m\u001b[0mJsonSchema\u001b[0m\u001b[0;34m(\u001b[0m\u001b[0mDataUsage\u001b[0m\u001b[0;34m)\u001b[0m\u001b[0;34m)\u001b[0m\u001b[0;34m\u001b[0m\u001b[0;34m\u001b[0m\u001b[0m\n\u001b[0m\u001b[1;32m     34\u001b[0m \u001b[0;34m\u001b[0m\u001b[0m\n\u001b[1;32m     35\u001b[0m \u001b[0;31m#example = Example()\u001b[0m\u001b[0;34m\u001b[0m\u001b[0;34m\u001b[0m\u001b[0m\n",
            "\u001b[0;32m/usr/local/lib/python3.10/dist-packages/pulsar/__init__.py\u001b[0m in \u001b[0;36mcreate_producer\u001b[0;34m(self, topic, producer_name, schema, initial_sequence_id, send_timeout_millis, compression_type, max_pending_messages, max_pending_messages_across_partitions, block_if_queue_full, batching_enabled, batching_max_messages, batching_max_allowed_size_in_bytes, batching_max_publish_delay_ms, chunking_enabled, message_routing_mode, lazy_start_partitioned_producers, properties, batching_type, encryption_key, crypto_key_reader, access_mode)\u001b[0m\n\u001b[1;32m    741\u001b[0m \u001b[0;34m\u001b[0m\u001b[0m\n\u001b[1;32m    742\u001b[0m         \u001b[0mp\u001b[0m \u001b[0;34m=\u001b[0m \u001b[0mProducer\u001b[0m\u001b[0;34m(\u001b[0m\u001b[0;34m)\u001b[0m\u001b[0;34m\u001b[0m\u001b[0;34m\u001b[0m\u001b[0m\n\u001b[0;32m--> 743\u001b[0;31m         \u001b[0mp\u001b[0m\u001b[0;34m.\u001b[0m\u001b[0m_producer\u001b[0m \u001b[0;34m=\u001b[0m \u001b[0mself\u001b[0m\u001b[0;34m.\u001b[0m\u001b[0m_client\u001b[0m\u001b[0;34m.\u001b[0m\u001b[0mcreate_producer\u001b[0m\u001b[0;34m(\u001b[0m\u001b[0mtopic\u001b[0m\u001b[0;34m,\u001b[0m \u001b[0mconf\u001b[0m\u001b[0;34m)\u001b[0m\u001b[0;34m\u001b[0m\u001b[0;34m\u001b[0m\u001b[0m\n\u001b[0m\u001b[1;32m    744\u001b[0m         \u001b[0mp\u001b[0m\u001b[0;34m.\u001b[0m\u001b[0m_schema\u001b[0m \u001b[0;34m=\u001b[0m \u001b[0mschema\u001b[0m\u001b[0;34m\u001b[0m\u001b[0;34m\u001b[0m\u001b[0m\n\u001b[1;32m    745\u001b[0m         \u001b[0mp\u001b[0m\u001b[0;34m.\u001b[0m\u001b[0m_client\u001b[0m \u001b[0;34m=\u001b[0m \u001b[0mself\u001b[0m\u001b[0;34m.\u001b[0m\u001b[0m_client\u001b[0m\u001b[0;34m\u001b[0m\u001b[0;34m\u001b[0m\u001b[0m\n",
            "\u001b[0;31mAuthorizationError\u001b[0m: Pulsar error: AuthorizationError"
          ]
        }
      ],
      "source": [
        "import pulsar\n",
        "from pulsar.schema import *\n",
        "from pulsar.schema import AvroSchema\n",
        "\n",
        "import random\n",
        "\n",
        "print(\"start\")\n",
        "\n",
        "class Example(Record):\n",
        "    a = String()\n",
        "    b = Integer()\n",
        "    c = Array(String())\n",
        "    i = Map(String())\n",
        "\n",
        "class DataUsage(Record):\n",
        "    accountno = Integer()\n",
        "    year = Integer()\n",
        "    month = Integer()\n",
        "    date = Integer()\n",
        "    datausage = Integer()\n",
        "    day = String()\n",
        "\n",
        "\n",
        "\n",
        "client = pulsar.Client(service_url,\n",
        "                        authentication=pulsar.AuthenticationToken(token))\n",
        "\n"
      ]
    },
    {
      "cell_type": "code",
      "source": [
        "\n",
        "\n",
        "\n",
        "#example = Example()\n",
        "#example.a = 'Kono'\n",
        "\n",
        "usage = DataUsage()\n",
        "usage.accountno = 100001\n",
        "usage.year = 2022\n",
        "usage.month = 11\n",
        "usage.date = 4\n",
        "usage.datausage = 100\n",
        "usage.day = 'S'\n",
        "\n",
        "#producer.send(usage)\n",
        "#producer.send(example)\n",
        "\n",
        "\n",
        "for i in range(100):\n",
        "    usage.date = i\n",
        "    usage.day = str(i)\n",
        "    usage.datausage = random.randint(50, 100)\n",
        "    producer.send(usage)\n",
        "\n",
        "client.close()"
      ],
      "metadata": {
        "id": "vuz0qie4ZSDa"
      },
      "execution_count": null,
      "outputs": []
    },
    {
      "cell_type": "code",
      "source": [],
      "metadata": {
        "id": "H17TG4RwZYlc"
      },
      "execution_count": null,
      "outputs": []
    }
  ]
}