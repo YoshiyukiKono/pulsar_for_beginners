{
  "nbformat": 4,
  "nbformat_minor": 0,
  "metadata": {
    "colab": {
      "provenance": [],
      "include_colab_link": true
    },
    "kernelspec": {
      "name": "python3",
      "display_name": "Python 3"
    },
    "language_info": {
      "name": "python"
    }
  },
  "cells": [
    {
      "cell_type": "markdown",
      "metadata": {
        "id": "view-in-github",
        "colab_type": "text"
      },
      "source": [
        "<a href=\"https://colab.research.google.com/github/YoshiyukiKono/pulsar_for_beginners/blob/main/02_pulsar_consumer_for_astradb_cdc.ipynb\" target=\"_parent\"><img src=\"https://colab.research.google.com/assets/colab-badge.svg\" alt=\"Open In Colab\"/></a>"
      ]
    },
    {
      "cell_type": "markdown",
      "source": [
        "# Pulsar クライアント開発演習\n",
        "## 第二部 Astra DB CDC + Pulsarデータ出力\n",
        "\n",
        "## 概要\n",
        "\n",
        "### 事前準備\n",
        " - 環境準備\n",
        "  - Astraアカウント登録・サインイン\n",
        "  - Astra DB データベース、キースペース作成\n",
        "  - Astra Streaming テナント作成\n",
        "\n",
        " - 開発準備\n",
        "  - Astra DB トークン生成\n",
        "  - Astra Streaming トークン生成\n",
        "\n",
        "\n",
        "### 演習概要\n",
        "\n",
        "####\n",
        " - Astraコントロールプレーンでの操作\n",
        "  - Astra DB テーブル作成\n",
        "  - Astra DB CDC定義\n",
        "    - CDC用 Astra Streaming ネームスペース、トピック、サブスクリプション自動生成結果確認\n",
        " - 本演習ノートブックでの操作\n",
        "  - Pulsarコンシューマー実行\n",
        "\n",
        "---\n",
        "\n"
      ],
      "metadata": {
        "id": "1Dba4UhpnMvL"
      }
    },
    {
      "cell_type": "markdown",
      "source": [
        "---\n",
        "\n",
        "## 演習 第二部 Astra DB CDC + Pulsarデータ出力"
      ],
      "metadata": {
        "id": "4rlU06HFryqB"
      }
    },
    {
      "cell_type": "code",
      "source": [
        "!pip install pulsar_client"
      ],
      "metadata": {
        "id": "WvI1TOyrbbAI",
        "outputId": "76f2bec4-4c17-4104-c481-1f27b333c332",
        "colab": {
          "base_uri": "https://localhost:8080/"
        }
      },
      "execution_count": 1,
      "outputs": [
        {
          "output_type": "stream",
          "name": "stdout",
          "text": [
            "Requirement already satisfied: pulsar_client in /usr/local/lib/python3.10/dist-packages (3.3.0)\n",
            "Requirement already satisfied: certifi in /usr/local/lib/python3.10/dist-packages (from pulsar_client) (2023.7.22)\n"
          ]
        }
      ]
    },
    {
      "cell_type": "code",
      "source": [
        "!pip install avro-python3"
      ],
      "metadata": {
        "id": "cwQ-5d3zz89Y",
        "outputId": "0a6497b8-8f0e-4cbf-9f89-f3ae15531b9b",
        "colab": {
          "base_uri": "https://localhost:8080/"
        }
      },
      "execution_count": 2,
      "outputs": [
        {
          "output_type": "stream",
          "name": "stdout",
          "text": [
            "Requirement already satisfied: avro-python3 in /usr/local/lib/python3.10/dist-packages (1.10.2)\n"
          ]
        }
      ]
    },
    {
      "cell_type": "code",
      "source": [
        "import base64\n",
        "import io\n",
        "import json\n",
        "import re\n",
        "import time\n",
        "from urllib.request import Request, urlopen\n",
        "\n",
        "import avro.schema\n",
        "import pulsar\n",
        "from avro.io import BinaryDecoder, DatumReader"
      ],
      "metadata": {
        "id": "_agnXZQGYR-Q"
      },
      "execution_count": 3,
      "outputs": []
    },
    {
      "cell_type": "markdown",
      "source": [
        "### Astra Streaming 接続設定\n",
        "\n",
        "#### Connect > Tenant Details > Broaker Service URL"
      ],
      "metadata": {
        "id": "R5MNiiVFo0X1"
      }
    },
    {
      "cell_type": "code",
      "source": [
        "service_url = input(\"service url:\")\n"
      ],
      "metadata": {
        "id": "GHCnV6Muaix-",
        "outputId": "bd4b0517-c9cb-4d06-b532-577372305b41",
        "colab": {
          "base_uri": "https://localhost:8080/"
        }
      },
      "execution_count": 5,
      "outputs": [
        {
          "name": "stdout",
          "output_type": "stream",
          "text": [
            "service url:pulsar+ssl://pulsar-gcp-useast1.streaming.datastax.com:6651\n"
          ]
        }
      ]
    },
    {
      "cell_type": "markdown",
      "source": [
        "#### Connect > Tenant Details > Web Service URL"
      ],
      "metadata": {
        "id": "jdsADBK9Y8-e"
      }
    },
    {
      "cell_type": "code",
      "source": [
        "admin_url = input(\"admin url:\")"
      ],
      "metadata": {
        "id": "_EP0NuxgY4mA",
        "outputId": "d7e3435c-f667-4b56-a89d-9aee7471ed34",
        "colab": {
          "base_uri": "https://localhost:8080/"
        }
      },
      "execution_count": 6,
      "outputs": [
        {
          "name": "stdout",
          "output_type": "stream",
          "text": [
            "admin url:https://pulsar-gcp-useast1.api.streaming.datastax.com\n"
          ]
        }
      ]
    },
    {
      "cell_type": "code",
      "source": [
        "import getpass\n",
        "\n",
        "token = getpass.getpass()\n",
        "print(\"token:\" + token[0:5] + \"...\" + token[-5:])\n",
        "print(\"token length:\" + str(len(token)))"
      ],
      "metadata": {
        "id": "xRkA8DkPajAg",
        "outputId": "2e86f8e3-7808-4701-b973-011ac8639fa7",
        "colab": {
          "base_uri": "https://localhost:8080/"
        }
      },
      "execution_count": 7,
      "outputs": [
        {
          "output_type": "stream",
          "name": "stdout",
          "text": [
            "··········\n",
            "token:eyJhb...euW8Q\n",
            "token length:548\n"
          ]
        }
      ]
    },
    {
      "cell_type": "code",
      "source": [
        "your_tenant_name = input(\"tenant name:\")"
      ],
      "metadata": {
        "id": "tOLQ_vIhmzSN",
        "outputId": "9fb5910f-4602-4a07-f9ac-1111bf713711",
        "colab": {
          "base_uri": "https://localhost:8080/"
        }
      },
      "execution_count": 8,
      "outputs": [
        {
          "name": "stdout",
          "output_type": "stream",
          "text": [
            "tenant name:cdc\n"
          ]
        }
      ]
    },
    {
      "cell_type": "code",
      "source": [
        "your_namespace = input(\"namespace:\")\n",
        "your_topic_name = input(\"topic name:\")\n",
        "\n",
        "topic_url = 'persistent://' + your_tenant_name + '/' + your_namespace + '/' + your_topic_name\n",
        "print(\"topic url:\" + topic_url)"
      ],
      "metadata": {
        "id": "CEoGS7ACgiIr",
        "outputId": "fb232ca3-234c-43f8-892b-0a92bfd01552",
        "colab": {
          "base_uri": "https://localhost:8080/"
        }
      },
      "execution_count": 9,
      "outputs": [
        {
          "output_type": "stream",
          "name": "stdout",
          "text": [
            "namespace:astracdc\n",
            "topic name:data-b04d69bb-6851-4bac-9703-8108dc560c41-cdc.cdc_test\n",
            "topic url:persistent://cdc/astracdc/data-b04d69bb-6851-4bac-9703-8108dc560c41-cdc.cdc_test\n"
          ]
        }
      ]
    },
    {
      "cell_type": "code",
      "source": [
        "import pulsar\n",
        "\n",
        "client = pulsar.Client(service_url,\n",
        "                        authentication=pulsar.AuthenticationToken(token))\n",
        "topic_partitions = client.get_topic_partitions(topic_url)\n",
        "print(topic_partitions)"
      ],
      "metadata": {
        "id": "qOEAkSCdgu6N",
        "outputId": "6849ae8c-417f-4f71-eedd-6d249d3e4f59",
        "colab": {
          "base_uri": "https://localhost:8080/"
        }
      },
      "execution_count": 11,
      "outputs": [
        {
          "output_type": "stream",
          "name": "stdout",
          "text": [
            "['persistent://cdc/astracdc/data-b04d69bb-6851-4bac-9703-8108dc560c41-cdc.cdc_test-partition-0', 'persistent://cdc/astracdc/data-b04d69bb-6851-4bac-9703-8108dc560c41-cdc.cdc_test-partition-1', 'persistent://cdc/astracdc/data-b04d69bb-6851-4bac-9703-8108dc560c41-cdc.cdc_test-partition-2']\n"
          ]
        }
      ]
    },
    {
      "cell_type": "markdown",
      "source": [
        "## Pulsarコンシューマー実行"
      ],
      "metadata": {
        "id": "IKhGrP4LmNKx"
      }
    },
    {
      "cell_type": "markdown",
      "source": [
        "関数定義"
      ],
      "metadata": {
        "id": "qA_CLA0MehtT"
      }
    },
    {
      "cell_type": "code",
      "source": [
        "import logging\n",
        "\n",
        "logging.basicConfig(\n",
        "    format='%(asctime)s.%(msecs)05d %(levelname)-8s %(message)s',\n",
        "    level=logging.INFO,\n",
        "    datefmt='%Y-%m-%d %H:%M:%S')\n",
        "\n",
        "def http_get(url):\n",
        "    req = Request(url)\n",
        "    req.add_header(\"Accept\", \"application/json\")\n",
        "    req.add_header(\"Authorization\", \"Bearer \" + token)\n",
        "    return urlopen(req).read()\n",
        "\n",
        "\n",
        "def getSchema(admin_url, tenant_name, namespace, topic_name):\n",
        "    schema_url = \"%s/admin/v2/schemas/%s/%s/%s/schema\" % (admin_url, tenant_name, namespace, topic_name)\n",
        "\n",
        "    print(schema_url)\n",
        "\n",
        "    logging.info(\"Schema URL='{}'\".format(schema_url))\n",
        "    topic_schema = http_get(schema_url).decode(\"utf-8\")\n",
        "    # This isn't great\n",
        "    # the data part of the json has extra back slashes\n",
        "    topic_schema = topic_schema.replace(\"\\\\\", \"\")\n",
        "    topic_schema = topic_schema.replace('data\":\"', 'data\":')\n",
        "    topic_schema = topic_schema.replace('}\",\"properties', '},\"properties')\n",
        "\n",
        "    logging.info(\"Topic'{}' Schema='{}'\".format(topic_name, topic_schema))\n",
        "\n",
        "    schema_json = json.loads(topic_schema)\n",
        "\n",
        "    data_schema = schema_json[\"data\"]\n",
        "\n",
        "    keyschema_json = data_schema[\"key\"]\n",
        "    valueschema_json = data_schema[\"value\"]\n",
        "\n",
        "    # the namespaces start with numbers and AVRO doesn't like it\n",
        "    # so strip them out for now\n",
        "    key_namespace = keyschema_json[\"namespace\"]\n",
        "    key_namespace = re.sub(\"\\d.*_\", \"\", key_namespace)\n",
        "    keyschema_json[\"namespace\"] = key_namespace\n",
        "\n",
        "    value_namespace = valueschema_json[\"namespace\"]\n",
        "    value_namespace = re.sub(\"\\d.*_\", \"\", value_namespace)\n",
        "    valueschema_json[\"namespace\"] = value_namespace\n",
        "\n",
        "    keyAvroSchema = avro.schema.Parse(json.dumps(keyschema_json))\n",
        "    valueAvroSchema = avro.schema.Parse(json.dumps(valueschema_json))\n",
        "\n",
        "    return keyAvroSchema, valueAvroSchema"
      ],
      "metadata": {
        "id": "u657anT1eh-x"
      },
      "execution_count": 12,
      "outputs": []
    },
    {
      "cell_type": "code",
      "source": [
        "keyAvroSchema, valueAvroSchema = getSchema(admin_url,your_tenant_name, your_namespace, your_topic_name)"
      ],
      "metadata": {
        "id": "z_kFIBwPeoD0",
        "outputId": "52b69b4d-7282-460f-cc1d-eeba37719567",
        "colab": {
          "base_uri": "https://localhost:8080/"
        }
      },
      "execution_count": 13,
      "outputs": [
        {
          "output_type": "stream",
          "name": "stdout",
          "text": [
            "https://pulsar-gcp-useast1.api.streaming.datastax.com/admin/v2/schemas/cdc/astracdc/data-b04d69bb-6851-4bac-9703-8108dc560c41-cdc.cdc_test/schema\n"
          ]
        }
      ]
    },
    {
      "cell_type": "code",
      "source": [
        "keyAvroReader = DatumReader(keyAvroSchema)\n",
        "valueAvroReader = DatumReader(valueAvroSchema)"
      ],
      "metadata": {
        "id": "fHhGvjDN2m_b"
      },
      "execution_count": 14,
      "outputs": []
    },
    {
      "cell_type": "markdown",
      "source": [
        "サブスクリプション名"
      ],
      "metadata": {
        "id": "GmjG4MOI6cfx"
      }
    },
    {
      "cell_type": "code",
      "source": [
        "subscription_name = input(\"subsuctiption name:\")"
      ],
      "metadata": {
        "id": "uUHktHQUmy-s",
        "outputId": "d38ce681-df1e-4417-b1ef-fe4d93b98759",
        "colab": {
          "base_uri": "https://localhost:8080/"
        }
      },
      "execution_count": 16,
      "outputs": [
        {
          "name": "stdout",
          "output_type": "stream",
          "text": [
            "subsuctiption name:sub\n"
          ]
        }
      ]
    },
    {
      "cell_type": "code",
      "source": [
        "MODE_RUNNING = True\n",
        "\n",
        "consumer = client.subscribe(topic_url, subscription_name)\n",
        "\n",
        "try:\n",
        "    waitingForMsg = True\n",
        "    while waitingForMsg:\n",
        "        try:\n",
        "            msg = consumer.receive(2000)\n",
        "\n",
        "            try:\n",
        "                # The PartitionKey is Base64 Encoded, so it needs to be decoded\n",
        "                msgKey = msg.partition_key()\n",
        "                msgKey_decoded = base64.b64decode(msgKey)\n",
        "\n",
        "                messageKey_bytes = io.BytesIO(msgKey_decoded)\n",
        "                keydecoder = BinaryDecoder(messageKey_bytes)\n",
        "                msgKey = keyAvroReader.read(keydecoder)\n",
        "\n",
        "                message_bytes = io.BytesIO(msg.data())\n",
        "                decoder = BinaryDecoder(message_bytes)\n",
        "                msgvalue = valueAvroReader.read(decoder)\n",
        "\n",
        "                print(\"Received message key='{}' value='{}'\".format(msgKey, msgvalue))\n",
        "                #print(\"Received message '{}' id='{}'\".format(msg.data(), msg.message_id()))\n",
        "                # Acknowledging the message to remove from message backlog\n",
        "                consumer.acknowledge(msg)\n",
        "            except:\n",
        "                consumer.negative_acknowledge(msg)\n",
        "\n",
        "        except Exception as ex:\n",
        "            print(ex)\n",
        "            if MODE_RUNNING:\n",
        "                print(\"Still waiting for a message...\");\n",
        "            else:\n",
        "                print(\"Stop waiting for a message.\");\n",
        "                waitingForMsg = False\n",
        "        time.sleep(1)\n",
        "\n",
        "finally:\n",
        "  consumer.close()"
      ],
      "metadata": {
        "id": "prUeDK7i4UhW",
        "outputId": "29f44cb2-2fb8-4afc-94de-b761d4db2b7c",
        "colab": {
          "base_uri": "https://localhost:8080/",
          "height": 756
        }
      },
      "execution_count": 20,
      "outputs": [
        {
          "output_type": "stream",
          "name": "stdout",
          "text": [
            "Pulsar error: TimeOut\n",
            "Still waiting for a message...\n",
            "Pulsar error: TimeOut\n",
            "Still waiting for a message...\n",
            "Pulsar error: TimeOut\n",
            "Still waiting for a message...\n",
            "Pulsar error: TimeOut\n",
            "Still waiting for a message...\n",
            "Pulsar error: TimeOut\n",
            "Still waiting for a message...\n",
            "Received message key='{'message_id': '8881'}' value='{'message': 'Hello88881'}'\n",
            "Pulsar error: TimeOut\n",
            "Still waiting for a message...\n",
            "Pulsar error: TimeOut\n",
            "Still waiting for a message...\n",
            "Pulsar error: TimeOut\n",
            "Still waiting for a message...\n"
          ]
        },
        {
          "output_type": "error",
          "ename": "KeyboardInterrupt",
          "evalue": "ignored",
          "traceback": [
            "\u001b[0;31m---------------------------------------------------------------------------\u001b[0m",
            "\u001b[0;31mTimeout\u001b[0m                                   Traceback (most recent call last)",
            "\u001b[0;32m<ipython-input-20-75724cd84d44>\u001b[0m in \u001b[0;36m<cell line: 5>\u001b[0;34m()\u001b[0m\n\u001b[1;32m      8\u001b[0m         \u001b[0;32mtry\u001b[0m\u001b[0;34m:\u001b[0m\u001b[0;34m\u001b[0m\u001b[0;34m\u001b[0m\u001b[0m\n\u001b[0;32m----> 9\u001b[0;31m             \u001b[0mmsg\u001b[0m \u001b[0;34m=\u001b[0m \u001b[0mconsumer\u001b[0m\u001b[0;34m.\u001b[0m\u001b[0mreceive\u001b[0m\u001b[0;34m(\u001b[0m\u001b[0;36m2000\u001b[0m\u001b[0;34m)\u001b[0m\u001b[0;34m\u001b[0m\u001b[0;34m\u001b[0m\u001b[0m\n\u001b[0m\u001b[1;32m     10\u001b[0m \u001b[0;34m\u001b[0m\u001b[0m\n",
            "\u001b[0;32m/usr/local/lib/python3.10/dist-packages/pulsar/__init__.py\u001b[0m in \u001b[0;36mreceive\u001b[0;34m(self, timeout_millis)\u001b[0m\n\u001b[1;32m   1384\u001b[0m             \u001b[0m_check_type\u001b[0m\u001b[0;34m(\u001b[0m\u001b[0mint\u001b[0m\u001b[0;34m,\u001b[0m \u001b[0mtimeout_millis\u001b[0m\u001b[0;34m,\u001b[0m \u001b[0;34m'timeout_millis'\u001b[0m\u001b[0;34m)\u001b[0m\u001b[0;34m\u001b[0m\u001b[0;34m\u001b[0m\u001b[0m\n\u001b[0;32m-> 1385\u001b[0;31m             \u001b[0mmsg\u001b[0m \u001b[0;34m=\u001b[0m \u001b[0mself\u001b[0m\u001b[0;34m.\u001b[0m\u001b[0m_consumer\u001b[0m\u001b[0;34m.\u001b[0m\u001b[0mreceive\u001b[0m\u001b[0;34m(\u001b[0m\u001b[0mtimeout_millis\u001b[0m\u001b[0;34m)\u001b[0m\u001b[0;34m\u001b[0m\u001b[0;34m\u001b[0m\u001b[0m\n\u001b[0m\u001b[1;32m   1386\u001b[0m \u001b[0;34m\u001b[0m\u001b[0m\n",
            "\u001b[0;31mTimeout\u001b[0m: Pulsar error: TimeOut",
            "\nDuring handling of the above exception, another exception occurred:\n",
            "\u001b[0;31mKeyboardInterrupt\u001b[0m                         Traceback (most recent call last)",
            "\u001b[0;32m<ipython-input-20-75724cd84d44>\u001b[0m in \u001b[0;36m<cell line: 5>\u001b[0;34m()\u001b[0m\n\u001b[1;32m      7\u001b[0m     \u001b[0;32mwhile\u001b[0m \u001b[0mwaitingForMsg\u001b[0m\u001b[0;34m:\u001b[0m\u001b[0;34m\u001b[0m\u001b[0;34m\u001b[0m\u001b[0m\n\u001b[1;32m      8\u001b[0m         \u001b[0;32mtry\u001b[0m\u001b[0;34m:\u001b[0m\u001b[0;34m\u001b[0m\u001b[0;34m\u001b[0m\u001b[0m\n\u001b[0;32m----> 9\u001b[0;31m             \u001b[0mmsg\u001b[0m \u001b[0;34m=\u001b[0m \u001b[0mconsumer\u001b[0m\u001b[0;34m.\u001b[0m\u001b[0mreceive\u001b[0m\u001b[0;34m(\u001b[0m\u001b[0;36m2000\u001b[0m\u001b[0;34m)\u001b[0m\u001b[0;34m\u001b[0m\u001b[0;34m\u001b[0m\u001b[0m\n\u001b[0m\u001b[1;32m     10\u001b[0m \u001b[0;34m\u001b[0m\u001b[0m\n\u001b[1;32m     11\u001b[0m             \u001b[0;32mtry\u001b[0m\u001b[0;34m:\u001b[0m\u001b[0;34m\u001b[0m\u001b[0;34m\u001b[0m\u001b[0m\n",
            "\u001b[0;31mKeyboardInterrupt\u001b[0m: "
          ]
        }
      ]
    },
    {
      "cell_type": "markdown",
      "source": [
        "上記セルの実行中にAstra DBにデータを追加する。\n",
        "```sql\n",
        "insert into cdc_test (message_id, message) values ('8881','Hello88881');\n",
        "```"
      ],
      "metadata": {
        "id": "xj20IUau45gh"
      }
    },
    {
      "cell_type": "markdown",
      "source": [
        "## 参考：APIコールの確認\n",
        "\n",
        "https://*.api.astra.datastax.com/admin/v2/schemas/{tenant}/{namespace}/{topic}/schema"
      ],
      "metadata": {
        "id": "WZsMaoGQjlfU"
      }
    },
    {
      "cell_type": "code",
      "source": [
        "your_topic_name"
      ],
      "metadata": {
        "id": "lxIVnMwbyHak",
        "outputId": "6ef1a298-7040-42af-997b-486fe78449ae",
        "colab": {
          "base_uri": "https://localhost:8080/",
          "height": 35
        }
      },
      "execution_count": 21,
      "outputs": [
        {
          "output_type": "execute_result",
          "data": {
            "text/plain": [
              "'data-b04d69bb-6851-4bac-9703-8108dc560c41-cdc.cdc_test'"
            ],
            "application/vnd.google.colaboratory.intrinsic+json": {
              "type": "string"
            }
          },
          "metadata": {},
          "execution_count": 21
        }
      ]
    },
    {
      "cell_type": "code",
      "source": [
        "url = 'https://pulsar-gcp-useast1.api.streaming.datastax.com/admin/v2/schemas/cdc/astracdc/data-b04d69bb-6851-4bac-9703-8108dc560c41-cdc.cdc_test/schema'\n",
        "#url = 'https://www.datastax.com/'\n",
        "req = Request(url)\n",
        "req.add_header(\"Accept\", \"application/json\")\n",
        "req.add_header(\"Authorization\", \"Bearer \" + token)\n",
        "res = urlopen(req).read()"
      ],
      "metadata": {
        "id": "PfPoThHziYqp"
      },
      "execution_count": 22,
      "outputs": []
    },
    {
      "cell_type": "code",
      "source": [
        "admin_url"
      ],
      "metadata": {
        "id": "mQBpvKGgxbfM",
        "outputId": "2b3ac163-5189-4b98-cd0a-ef6a000fd647",
        "colab": {
          "base_uri": "https://localhost:8080/",
          "height": 35
        }
      },
      "execution_count": 23,
      "outputs": [
        {
          "output_type": "execute_result",
          "data": {
            "text/plain": [
              "'https://pulsar-gcp-useast1.api.streaming.datastax.com'"
            ],
            "application/vnd.google.colaboratory.intrinsic+json": {
              "type": "string"
            }
          },
          "metadata": {},
          "execution_count": 23
        }
      ]
    },
    {
      "cell_type": "code",
      "source": [
        "res"
      ],
      "metadata": {
        "id": "HLFMDPPJxC8i",
        "outputId": "02990b2a-d069-4f8b-f63e-2c25f54d3f5f",
        "colab": {
          "base_uri": "https://localhost:8080/"
        }
      },
      "execution_count": 24,
      "outputs": [
        {
          "output_type": "execute_result",
          "data": {
            "text/plain": [
              "b'{\"version\":0,\"type\":\"KEY_VALUE\",\"timestamp\":1699844893626,\"data\":\"{\\\\\"key\\\\\":{\\\\\"type\\\\\":\\\\\"record\\\\\",\\\\\"name\\\\\":\\\\\"cdc_test\\\\\",\\\\\"namespace\\\\\":\\\\\"_62303464363962622d363835312d346261632d393730332d383130386463353630633431_cdc\\\\\",\\\\\"doc\\\\\":\\\\\"Table 62303464363962622d363835312d346261632d393730332d383130386463353630633431_cdc.cdc_test\\\\\",\\\\\"fields\\\\\":[{\\\\\"name\\\\\":\\\\\"message_id\\\\\",\\\\\"type\\\\\":\\\\\"string\\\\\"}]},\\\\\"value\\\\\":{\\\\\"type\\\\\":\\\\\"record\\\\\",\\\\\"name\\\\\":\\\\\"cdc_test\\\\\",\\\\\"namespace\\\\\":\\\\\"_62303464363962622d363835312d346261632d393730332d383130386463353630633431_cdc\\\\\",\\\\\"doc\\\\\":\\\\\"Table 62303464363962622d363835312d346261632d393730332d383130386463353630633431_cdc.cdc_test\\\\\",\\\\\"fields\\\\\":[{\\\\\"name\\\\\":\\\\\"message\\\\\",\\\\\"type\\\\\":[\\\\\"null\\\\\",\\\\\"string\\\\\"],\\\\\"default\\\\\":null}]}}\",\"properties\":{\"key.schema.properties\":\"{}\",\"value.schema.properties\":\"{}\",\"value.schema.type\":\"AVRO\",\"key.schema.name\":\"cdc_test\",\"value.schema.name\":\"cdc_test\",\"kv.encoding.type\":\"SEPARATED\",\"key.schema.type\":\"AVRO\"}}'"
            ]
          },
          "metadata": {},
          "execution_count": 24
        }
      ]
    },
    {
      "cell_type": "code",
      "source": [
        "client.close()"
      ],
      "metadata": {
        "id": "qZkFPLVtutls"
      },
      "execution_count": null,
      "outputs": []
    },
    {
      "cell_type": "code",
      "source": [],
      "metadata": {
        "id": "xoeLUr0S6IOF"
      },
      "execution_count": null,
      "outputs": []
    }
  ]
}