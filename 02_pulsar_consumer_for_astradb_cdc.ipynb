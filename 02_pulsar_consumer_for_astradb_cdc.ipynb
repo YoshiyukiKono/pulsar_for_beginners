{
  "nbformat": 4,
  "nbformat_minor": 0,
  "metadata": {
    "colab": {
      "provenance": [],
      "include_colab_link": true
    },
    "kernelspec": {
      "name": "python3",
      "display_name": "Python 3"
    },
    "language_info": {
      "name": "python"
    }
  },
  "cells": [
    {
      "cell_type": "markdown",
      "metadata": {
        "id": "view-in-github",
        "colab_type": "text"
      },
      "source": [
        "<a href=\"https://colab.research.google.com/github/YoshiyukiKono/pulsar_for_beginners/blob/main/02_pulsar_consumer_for_astradb_cdc.ipynb\" target=\"_parent\"><img src=\"https://colab.research.google.com/assets/colab-badge.svg\" alt=\"Open In Colab\"/></a>"
      ]
    },
    {
      "cell_type": "markdown",
      "source": [
        "# Pulsar クライアント開発演習\n",
        "## 第二部 Astra DB CDC + Pulsarデータ出力\n",
        "\n",
        "## 概要\n",
        "\n",
        "### 事前準備\n",
        " - 環境準備\n",
        "  - Astraアカウント登録・サインイン\n",
        "  - Astra DB データベース、キースペース作成\n",
        "  - Astra Streaming テナント作成\n",
        "\n",
        " - 開発準備\n",
        "  - Astra DB トークン生成\n",
        "  - Astra Streaming トークン生成\n",
        "\n",
        "\n",
        "### 演習概要\n",
        "\n",
        "####\n",
        " - Astraコントロールプレーンでの操作\n",
        "  - Astra DB テーブル作成\n",
        "  - Astra DB CDC定義\n",
        "    - CDC用 Astra Streaming ネームスペース、トピック、サブスクリプション自動生成結果確認\n",
        " - 本演習ノートブックでの操作\n",
        "  - Pulsarコンシューマー実行\n",
        "\n",
        "---\n",
        "\n",
        "### Astra DBテーブル作成\n",
        "\n",
        "ここでは、Astra DBに以下のテーブルが作成され、Astra StreamingへのCDC設定が行われていることを前提とします。\n",
        "```\n",
        "CREATE TABLE cdc.cdc_test (\n",
        "    message_id text PRIMARY KEY,\n",
        "    message text\n",
        ")\n",
        "```"
      ],
      "metadata": {
        "id": "1Dba4UhpnMvL"
      }
    },
    {
      "cell_type": "markdown",
      "source": [
        "---\n",
        "\n",
        "## 演習 第二部 Astra DB CDC + Pulsarデータ出力"
      ],
      "metadata": {
        "id": "4rlU06HFryqB"
      }
    },
    {
      "cell_type": "code",
      "source": [
        "!pip install pulsar_client==3.3.0 avro-python3==1.10.2"
      ],
      "metadata": {
        "id": "WvI1TOyrbbAI",
        "outputId": "a36e3afa-e3d6-4876-db12-06e9a7a18bc3",
        "colab": {
          "base_uri": "https://localhost:8080/"
        }
      },
      "execution_count": 2,
      "outputs": [
        {
          "output_type": "stream",
          "name": "stdout",
          "text": [
            "Requirement already satisfied: pulsar_client==3.3.0 in /usr/local/lib/python3.10/dist-packages (3.3.0)\n",
            "Requirement already satisfied: avro-python3==1.10.2 in /usr/local/lib/python3.10/dist-packages (1.10.2)\n",
            "Requirement already satisfied: certifi in /usr/local/lib/python3.10/dist-packages (from pulsar_client==3.3.0) (2023.7.22)\n"
          ]
        }
      ]
    },
    {
      "cell_type": "markdown",
      "source": [
        "### Astra Streaming 接続設定\n",
        "\n",
        "#### Connect > Tenant Details > Broaker Service URL"
      ],
      "metadata": {
        "id": "R5MNiiVFo0X1"
      }
    },
    {
      "cell_type": "code",
      "source": [
        "service_url = input(\"service url:\")\n"
      ],
      "metadata": {
        "id": "GHCnV6Muaix-",
        "outputId": "3f916a0a-7f36-4b27-9abc-3c3b8352c004",
        "colab": {
          "base_uri": "https://localhost:8080/"
        }
      },
      "execution_count": 3,
      "outputs": [
        {
          "name": "stdout",
          "output_type": "stream",
          "text": [
            "service url:pulsar+ssl://pulsar-gcp-useast1.streaming.datastax.com:6651\n"
          ]
        }
      ]
    },
    {
      "cell_type": "markdown",
      "source": [
        "#### Connect > Tenant Details > Web Service URL"
      ],
      "metadata": {
        "id": "jdsADBK9Y8-e"
      }
    },
    {
      "cell_type": "code",
      "source": [
        "admin_url = input(\"admin url:\")"
      ],
      "metadata": {
        "id": "_EP0NuxgY4mA",
        "outputId": "dff14bab-0bae-4562-ce85-e10cd7401ee2",
        "colab": {
          "base_uri": "https://localhost:8080/"
        }
      },
      "execution_count": 4,
      "outputs": [
        {
          "name": "stdout",
          "output_type": "stream",
          "text": [
            "admin url:https://pulsar-gcp-useast1.api.streaming.datastax.com\n"
          ]
        }
      ]
    },
    {
      "cell_type": "code",
      "source": [
        "import getpass\n",
        "\n",
        "token = getpass.getpass()\n",
        "print(\"token:\" + token[0:5] + \"...\" + token[-5:])\n",
        "print(\"token length:\" + str(len(token)))"
      ],
      "metadata": {
        "id": "xRkA8DkPajAg",
        "outputId": "08ff7f50-a0ed-41c8-ab29-b58a5a0150f9",
        "colab": {
          "base_uri": "https://localhost:8080/"
        }
      },
      "execution_count": 5,
      "outputs": [
        {
          "output_type": "stream",
          "name": "stdout",
          "text": [
            "··········\n",
            "token:eyJhb...euW8Q\n",
            "token length:548\n"
          ]
        }
      ]
    },
    {
      "cell_type": "code",
      "source": [
        "your_tenant_name = input(\"tenant name:\")"
      ],
      "metadata": {
        "id": "tOLQ_vIhmzSN",
        "outputId": "95a63946-8e65-4caf-b2ad-38283e34d34c",
        "colab": {
          "base_uri": "https://localhost:8080/"
        }
      },
      "execution_count": 6,
      "outputs": [
        {
          "name": "stdout",
          "output_type": "stream",
          "text": [
            "tenant name:cdc\n"
          ]
        }
      ]
    },
    {
      "cell_type": "code",
      "source": [
        "your_namespace = input(\"namespace:\")\n",
        "your_topic_name = input(\"topic name:\")\n",
        "\n",
        "topic_url = 'persistent://' + your_tenant_name + '/' + your_namespace + '/' + your_topic_name\n",
        "print(\"topic url:\" + topic_url)"
      ],
      "metadata": {
        "id": "CEoGS7ACgiIr",
        "outputId": "23e3bd2d-cd6c-482c-9f9c-57ca6df60afb",
        "colab": {
          "base_uri": "https://localhost:8080/"
        }
      },
      "execution_count": 15,
      "outputs": [
        {
          "output_type": "stream",
          "name": "stdout",
          "text": [
            "namespace:astracdc\n",
            "topic name:data-b04d69bb-6851-4bac-9703-8108dc560c41-cdc.cdc_test\n",
            "topic url:persistent://cdc/astracdc/data-b04d69bb-6851-4bac-9703-8108dc560c41-cdc.cdc_test\n"
          ]
        }
      ]
    },
    {
      "cell_type": "markdown",
      "source": [
        "注意：上記で入力する「topic name」は、パスの含まれないトピック自体の名称です。\n",
        "階層的なパスで表現されたフルネームではありません。\n",
        "Astraコントロールプレーン上で、トピック名の隣のコピーアイコンをクリックした場合フルネームとしてコピーされるため、注意が必要です。（間違ってフルネームを入力しても、以下の接続確認〜トピックパーティションの取得〜ではエラーとならず、その後のスキーマ取得の際にエラーとなるため注意してください）"
      ],
      "metadata": {
        "id": "tRWk_Cvius7P"
      }
    },
    {
      "cell_type": "code",
      "source": [
        "import pulsar\n",
        "\n",
        "client = pulsar.Client(service_url,\n",
        "                        authentication=pulsar.AuthenticationToken(token))\n",
        "topic_partitions = client.get_topic_partitions(topic_url)\n",
        "print(topic_partitions)"
      ],
      "metadata": {
        "id": "qOEAkSCdgu6N",
        "outputId": "793fb21b-0c20-49ce-836a-5088af0ff061",
        "colab": {
          "base_uri": "https://localhost:8080/"
        }
      },
      "execution_count": 16,
      "outputs": [
        {
          "output_type": "stream",
          "name": "stdout",
          "text": [
            "['persistent://cdc/astracdc/data-b04d69bb-6851-4bac-9703-8108dc560c41-cdc.cdc_test-partition-0', 'persistent://cdc/astracdc/data-b04d69bb-6851-4bac-9703-8108dc560c41-cdc.cdc_test-partition-1', 'persistent://cdc/astracdc/data-b04d69bb-6851-4bac-9703-8108dc560c41-cdc.cdc_test-partition-2']\n"
          ]
        }
      ]
    },
    {
      "cell_type": "markdown",
      "source": [
        "## Pulsarコンシューマー実行"
      ],
      "metadata": {
        "id": "IKhGrP4LmNKx"
      }
    },
    {
      "cell_type": "code",
      "source": [
        "import base64\n",
        "import io\n",
        "import json\n",
        "import re\n",
        "import time\n",
        "from urllib.request import Request, urlopen\n",
        "\n",
        "import avro.schema\n",
        "import pulsar\n",
        "from avro.io import BinaryDecoder, DatumReader"
      ],
      "metadata": {
        "id": "_agnXZQGYR-Q"
      },
      "execution_count": 17,
      "outputs": []
    },
    {
      "cell_type": "markdown",
      "source": [
        "関数定義"
      ],
      "metadata": {
        "id": "qA_CLA0MehtT"
      }
    },
    {
      "cell_type": "code",
      "source": [
        "import logging\n",
        "\n",
        "logging.basicConfig(\n",
        "    format='%(asctime)s.%(msecs)05d %(levelname)-8s %(message)s',\n",
        "    level=logging.INFO,\n",
        "    datefmt='%Y-%m-%d %H:%M:%S')\n",
        "\n",
        "def http_get(url):\n",
        "    req = Request(url)\n",
        "    req.add_header(\"Accept\", \"application/json\")\n",
        "    req.add_header(\"Authorization\", \"Bearer \" + token)\n",
        "    return urlopen(req).read()\n",
        "\n",
        "\n",
        "def getSchema(admin_url, tenant_name, namespace, topic_name):\n",
        "    schema_url = \"%s/admin/v2/schemas/%s/%s/%s/schema\" % (admin_url, tenant_name, namespace, topic_name)\n",
        "\n",
        "    print(schema_url)\n",
        "\n",
        "    logging.info(\"Schema URL='{}'\".format(schema_url))\n",
        "    topic_schema = http_get(schema_url).decode(\"utf-8\")\n",
        "    # This isn't great\n",
        "    # the data part of the json has extra back slashes\n",
        "    topic_schema = topic_schema.replace(\"\\\\\", \"\")\n",
        "    topic_schema = topic_schema.replace('data\":\"', 'data\":')\n",
        "    topic_schema = topic_schema.replace('}\",\"properties', '},\"properties')\n",
        "\n",
        "    logging.info(\"Topic'{}' Schema='{}'\".format(topic_name, topic_schema))\n",
        "\n",
        "    schema_json = json.loads(topic_schema)\n",
        "\n",
        "    data_schema = schema_json[\"data\"]\n",
        "\n",
        "    keyschema_json = data_schema[\"key\"]\n",
        "    valueschema_json = data_schema[\"value\"]\n",
        "\n",
        "    # the namespaces start with numbers and AVRO doesn't like it\n",
        "    # so strip them out for now\n",
        "    key_namespace = keyschema_json[\"namespace\"]\n",
        "    key_namespace = re.sub(\"\\d.*_\", \"\", key_namespace)\n",
        "    keyschema_json[\"namespace\"] = key_namespace\n",
        "\n",
        "    value_namespace = valueschema_json[\"namespace\"]\n",
        "    value_namespace = re.sub(\"\\d.*_\", \"\", value_namespace)\n",
        "    valueschema_json[\"namespace\"] = value_namespace\n",
        "\n",
        "    keyAvroSchema = avro.schema.Parse(json.dumps(keyschema_json))\n",
        "    valueAvroSchema = avro.schema.Parse(json.dumps(valueschema_json))\n",
        "\n",
        "    return keyAvroSchema, valueAvroSchema"
      ],
      "metadata": {
        "id": "u657anT1eh-x"
      },
      "execution_count": 18,
      "outputs": []
    },
    {
      "cell_type": "code",
      "source": [
        "keyAvroSchema, valueAvroSchema = getSchema(admin_url,your_tenant_name, your_namespace, your_topic_name)"
      ],
      "metadata": {
        "id": "z_kFIBwPeoD0",
        "outputId": "55a591cd-83fe-49d6-ac65-aaf8506b6a73",
        "colab": {
          "base_uri": "https://localhost:8080/"
        }
      },
      "execution_count": 19,
      "outputs": [
        {
          "output_type": "stream",
          "name": "stdout",
          "text": [
            "https://pulsar-gcp-useast1.api.streaming.datastax.com/admin/v2/schemas/cdc/astracdc/data-b04d69bb-6851-4bac-9703-8108dc560c41-cdc.cdc_test/schema\n"
          ]
        }
      ]
    },
    {
      "cell_type": "code",
      "source": [
        "keyAvroReader = DatumReader(keyAvroSchema)\n",
        "valueAvroReader = DatumReader(valueAvroSchema)"
      ],
      "metadata": {
        "id": "fHhGvjDN2m_b"
      },
      "execution_count": 20,
      "outputs": []
    },
    {
      "cell_type": "markdown",
      "source": [
        "サブスクリプション名"
      ],
      "metadata": {
        "id": "GmjG4MOI6cfx"
      }
    },
    {
      "cell_type": "code",
      "source": [
        "subscription_name = input(\"subsuctiption name:\")"
      ],
      "metadata": {
        "id": "uUHktHQUmy-s",
        "outputId": "1cbaf837-1ce4-4025-805c-d58d92f33675",
        "colab": {
          "base_uri": "https://localhost:8080/"
        }
      },
      "execution_count": 21,
      "outputs": [
        {
          "name": "stdout",
          "output_type": "stream",
          "text": [
            "subsuctiption name:sub\n"
          ]
        }
      ]
    },
    {
      "cell_type": "markdown",
      "source": [
        "CDCの確認のため、以下のコンシューマーは、更新を待機するものとなっています。\n",
        "終了するためには、（実行中を示すアイコンをクリックして）人為的に停止（KeyboardInterruptを発生）させてください。\n",
        "実行中に、Astra DBのテーブルにレコードを追加します（AstraコントロールプレーンのCQL COnsoleが使えます）。\n",
        "以下は、実行例です、\n",
        "```\n",
        "INSERT INTO cdc_test (message_id, message) values ('20231128','Hello World');\n",
        "```"
      ],
      "metadata": {
        "id": "Xc9OE1YFwMla"
      }
    },
    {
      "cell_type": "code",
      "source": [
        "MODE_RUNNING = True\n",
        "\n",
        "consumer = client.subscribe(topic_url, subscription_name)\n",
        "\n",
        "try:\n",
        "    waitingForMsg = True\n",
        "    while waitingForMsg:\n",
        "        try:\n",
        "            msg = consumer.receive(2000)\n",
        "\n",
        "            try:\n",
        "                # The PartitionKey is Base64 Encoded, so it needs to be decoded\n",
        "                msgKey = msg.partition_key()\n",
        "                msgKey_decoded = base64.b64decode(msgKey)\n",
        "\n",
        "                messageKey_bytes = io.BytesIO(msgKey_decoded)\n",
        "                keydecoder = BinaryDecoder(messageKey_bytes)\n",
        "                msgKey = keyAvroReader.read(keydecoder)\n",
        "\n",
        "                message_bytes = io.BytesIO(msg.data())\n",
        "                decoder = BinaryDecoder(message_bytes)\n",
        "                msgvalue = valueAvroReader.read(decoder)\n",
        "\n",
        "                print(\"Received message key='{}' value='{}'\".format(msgKey, msgvalue))\n",
        "                #print(\"Received message '{}' id='{}'\".format(msg.data(), msg.message_id()))\n",
        "                # Acknowledging the message to remove from message backlog\n",
        "                consumer.acknowledge(msg)\n",
        "            except:\n",
        "                consumer.negative_acknowledge(msg)\n",
        "\n",
        "        except Exception as ex:\n",
        "            print(ex)\n",
        "            if MODE_RUNNING:\n",
        "                print(\"Still waiting for a message...\");\n",
        "            else:\n",
        "                print(\"Stop waiting for a message.\");\n",
        "                waitingForMsg = False\n",
        "        time.sleep(1)\n",
        "\n",
        "finally:\n",
        "  consumer.close()"
      ],
      "metadata": {
        "id": "prUeDK7i4UhW",
        "outputId": "ea20fa70-a051-436d-cbe2-a9ac30fd128b",
        "colab": {
          "base_uri": "https://localhost:8080/",
          "height": 971
        }
      },
      "execution_count": 22,
      "outputs": [
        {
          "output_type": "stream",
          "name": "stdout",
          "text": [
            "Received message key='{'message_id': '2'}' value='{'message': 'Hello2'}'\n",
            "Received message key='{'message_id': '9'}' value='{'message': 'Hello9'}'\n",
            "Received message key='{'message_id': '6'}' value='{'message': 'Hello6'}'\n",
            "Received message key='{'message_id': '19'}' value='{'message': 'Hello taro19'}'\n",
            "Received message key='{'message_id': '16'}' value='{'message': 'Hello taro16'}'\n",
            "Received message key='{'message_id': '10'}' value='{'message': 'Hello taro10'}'\n",
            "Received message key='{'message_id': '3'}' value='{'message': 'Hello3'}'\n",
            "Received message key='{'message_id': '5'}' value='{'message': 'Hello5'}'\n",
            "Received message key='{'message_id': '4'}' value='{'message': 'Hello4'}'\n",
            "Received message key='{'message_id': '17'}' value='{'message': 'Hello taro17'}'\n",
            "Received message key='{'message_id': '18'}' value='{'message': 'Hello taro18'}'\n",
            "Received message key='{'message_id': '12'}' value='{'message': 'Hello taro12'}'\n",
            "Received message key='{'message_id': '14'}' value='{'message': 'Hello taro14'}'\n",
            "Received message key='{'message_id': '13'}' value='{'message': 'Hello taro13'}'\n",
            "Received message key='{'message_id': '8'}' value='{'message': 'Hello8'}'\n",
            "Received message key='{'message_id': '11'}' value='{'message': 'Hello taro11'}'\n",
            "Received message key='{'message_id': '7'}' value='{'message': 'Hello7'}'\n",
            "Received message key='{'message_id': '0'}' value='{'message': 'Hello0'}'\n",
            "Received message key='{'message_id': '1'}' value='{'message': 'Hello1'}'\n",
            "Received message key='{'message_id': '15'}' value='{'message': 'Hello taro15'}'\n",
            "Pulsar error: TimeOut\n",
            "Still waiting for a message...\n",
            "Pulsar error: TimeOut\n",
            "Still waiting for a message...\n",
            "Received message key='{'message_id': '20231128'}' value='{'message': 'Hello World'}'\n",
            "Pulsar error: TimeOut\n",
            "Still waiting for a message...\n",
            "Pulsar error: TimeOut\n",
            "Still waiting for a message...\n"
          ]
        },
        {
          "output_type": "error",
          "ename": "KeyboardInterrupt",
          "evalue": "ignored",
          "traceback": [
            "\u001b[0;31m---------------------------------------------------------------------------\u001b[0m",
            "\u001b[0;31mTimeout\u001b[0m                                   Traceback (most recent call last)",
            "\u001b[0;32m<ipython-input-22-75724cd84d44>\u001b[0m in \u001b[0;36m<cell line: 5>\u001b[0;34m()\u001b[0m\n\u001b[1;32m      8\u001b[0m         \u001b[0;32mtry\u001b[0m\u001b[0;34m:\u001b[0m\u001b[0;34m\u001b[0m\u001b[0;34m\u001b[0m\u001b[0m\n\u001b[0;32m----> 9\u001b[0;31m             \u001b[0mmsg\u001b[0m \u001b[0;34m=\u001b[0m \u001b[0mconsumer\u001b[0m\u001b[0;34m.\u001b[0m\u001b[0mreceive\u001b[0m\u001b[0;34m(\u001b[0m\u001b[0;36m2000\u001b[0m\u001b[0;34m)\u001b[0m\u001b[0;34m\u001b[0m\u001b[0;34m\u001b[0m\u001b[0m\n\u001b[0m\u001b[1;32m     10\u001b[0m \u001b[0;34m\u001b[0m\u001b[0m\n",
            "\u001b[0;32m/usr/local/lib/python3.10/dist-packages/pulsar/__init__.py\u001b[0m in \u001b[0;36mreceive\u001b[0;34m(self, timeout_millis)\u001b[0m\n\u001b[1;32m   1384\u001b[0m             \u001b[0m_check_type\u001b[0m\u001b[0;34m(\u001b[0m\u001b[0mint\u001b[0m\u001b[0;34m,\u001b[0m \u001b[0mtimeout_millis\u001b[0m\u001b[0;34m,\u001b[0m \u001b[0;34m'timeout_millis'\u001b[0m\u001b[0;34m)\u001b[0m\u001b[0;34m\u001b[0m\u001b[0;34m\u001b[0m\u001b[0m\n\u001b[0;32m-> 1385\u001b[0;31m             \u001b[0mmsg\u001b[0m \u001b[0;34m=\u001b[0m \u001b[0mself\u001b[0m\u001b[0;34m.\u001b[0m\u001b[0m_consumer\u001b[0m\u001b[0;34m.\u001b[0m\u001b[0mreceive\u001b[0m\u001b[0;34m(\u001b[0m\u001b[0mtimeout_millis\u001b[0m\u001b[0;34m)\u001b[0m\u001b[0;34m\u001b[0m\u001b[0;34m\u001b[0m\u001b[0m\n\u001b[0m\u001b[1;32m   1386\u001b[0m \u001b[0;34m\u001b[0m\u001b[0m\n",
            "\u001b[0;31mTimeout\u001b[0m: Pulsar error: TimeOut",
            "\nDuring handling of the above exception, another exception occurred:\n",
            "\u001b[0;31mKeyboardInterrupt\u001b[0m                         Traceback (most recent call last)",
            "\u001b[0;32m<ipython-input-22-75724cd84d44>\u001b[0m in \u001b[0;36m<cell line: 5>\u001b[0;34m()\u001b[0m\n\u001b[1;32m      7\u001b[0m     \u001b[0;32mwhile\u001b[0m \u001b[0mwaitingForMsg\u001b[0m\u001b[0;34m:\u001b[0m\u001b[0;34m\u001b[0m\u001b[0;34m\u001b[0m\u001b[0m\n\u001b[1;32m      8\u001b[0m         \u001b[0;32mtry\u001b[0m\u001b[0;34m:\u001b[0m\u001b[0;34m\u001b[0m\u001b[0;34m\u001b[0m\u001b[0m\n\u001b[0;32m----> 9\u001b[0;31m             \u001b[0mmsg\u001b[0m \u001b[0;34m=\u001b[0m \u001b[0mconsumer\u001b[0m\u001b[0;34m.\u001b[0m\u001b[0mreceive\u001b[0m\u001b[0;34m(\u001b[0m\u001b[0;36m2000\u001b[0m\u001b[0;34m)\u001b[0m\u001b[0;34m\u001b[0m\u001b[0;34m\u001b[0m\u001b[0m\n\u001b[0m\u001b[1;32m     10\u001b[0m \u001b[0;34m\u001b[0m\u001b[0m\n\u001b[1;32m     11\u001b[0m             \u001b[0;32mtry\u001b[0m\u001b[0;34m:\u001b[0m\u001b[0;34m\u001b[0m\u001b[0;34m\u001b[0m\u001b[0m\n",
            "\u001b[0;31mKeyboardInterrupt\u001b[0m: "
          ]
        }
      ]
    },
    {
      "cell_type": "markdown",
      "source": [
        "## 参考：APIコールの確認\n",
        "\n",
        "https://*.api.astra.datastax.com/admin/v2/schemas/{tenant}/{namespace}/{topic}/schema"
      ],
      "metadata": {
        "id": "WZsMaoGQjlfU"
      }
    },
    {
      "cell_type": "code",
      "source": [
        "print(admin_url)\n",
        "print(your_tenant_name)\n",
        "print(your_namespace)\n",
        "print(your_topic_name)"
      ],
      "metadata": {
        "id": "lxIVnMwbyHak",
        "outputId": "2566b920-2a48-4a15-fd65-4ed47626802c",
        "colab": {
          "base_uri": "https://localhost:8080/"
        }
      },
      "execution_count": 30,
      "outputs": [
        {
          "output_type": "stream",
          "name": "stdout",
          "text": [
            "https://pulsar-gcp-useast1.api.streaming.datastax.com\n",
            "cdc\n",
            "astracdc\n",
            "data-b04d69bb-6851-4bac-9703-8108dc560c41-cdc.cdc_test\n"
          ]
        }
      ]
    },
    {
      "cell_type": "code",
      "source": [
        "schema_url = \"%s/admin/v2/schemas/%s/%s/%s/schema\" % (admin_url, your_tenant_name, your_namespace, your_topic_name)\n",
        "print(schema_url)"
      ],
      "metadata": {
        "id": "NLcF-e-0yMhe",
        "outputId": "1ce9fea5-f850-48a9-afc6-6c1f051bf1d5",
        "colab": {
          "base_uri": "https://localhost:8080/"
        }
      },
      "execution_count": 31,
      "outputs": [
        {
          "output_type": "stream",
          "name": "stdout",
          "text": [
            "https://pulsar-gcp-useast1.api.streaming.datastax.com/admin/v2/schemas/cdc/astracdc/data-b04d69bb-6851-4bac-9703-8108dc560c41-cdc.cdc_test/schema\n"
          ]
        }
      ]
    },
    {
      "cell_type": "code",
      "source": [
        "req = Request(schema_url)\n",
        "req.add_header(\"Accept\", \"application/json\")\n",
        "req.add_header(\"Authorization\", \"Bearer \" + token)\n",
        "res = urlopen(req).read()\n",
        "print(res)"
      ],
      "metadata": {
        "id": "PfPoThHziYqp",
        "outputId": "005d4bc8-bfbb-482f-f2d5-1380f8403f11",
        "colab": {
          "base_uri": "https://localhost:8080/"
        }
      },
      "execution_count": 32,
      "outputs": [
        {
          "output_type": "stream",
          "name": "stdout",
          "text": [
            "b'{\"version\":0,\"type\":\"KEY_VALUE\",\"timestamp\":1699844893626,\"data\":\"{\\\\\"key\\\\\":{\\\\\"type\\\\\":\\\\\"record\\\\\",\\\\\"name\\\\\":\\\\\"cdc_test\\\\\",\\\\\"namespace\\\\\":\\\\\"_62303464363962622d363835312d346261632d393730332d383130386463353630633431_cdc\\\\\",\\\\\"doc\\\\\":\\\\\"Table 62303464363962622d363835312d346261632d393730332d383130386463353630633431_cdc.cdc_test\\\\\",\\\\\"fields\\\\\":[{\\\\\"name\\\\\":\\\\\"message_id\\\\\",\\\\\"type\\\\\":\\\\\"string\\\\\"}]},\\\\\"value\\\\\":{\\\\\"type\\\\\":\\\\\"record\\\\\",\\\\\"name\\\\\":\\\\\"cdc_test\\\\\",\\\\\"namespace\\\\\":\\\\\"_62303464363962622d363835312d346261632d393730332d383130386463353630633431_cdc\\\\\",\\\\\"doc\\\\\":\\\\\"Table 62303464363962622d363835312d346261632d393730332d383130386463353630633431_cdc.cdc_test\\\\\",\\\\\"fields\\\\\":[{\\\\\"name\\\\\":\\\\\"message\\\\\",\\\\\"type\\\\\":[\\\\\"null\\\\\",\\\\\"string\\\\\"],\\\\\"default\\\\\":null}]}}\",\"properties\":{\"key.schema.properties\":\"{}\",\"value.schema.properties\":\"{}\",\"value.schema.type\":\"AVRO\",\"key.schema.name\":\"cdc_test\",\"value.schema.name\":\"cdc_test\",\"kv.encoding.type\":\"SEPARATED\",\"key.schema.type\":\"AVRO\"}}'\n"
          ]
        }
      ]
    },
    {
      "cell_type": "markdown",
      "source": [
        "## クライアント接続のクローズ"
      ],
      "metadata": {
        "id": "YCTWgG8_ywtc"
      }
    },
    {
      "cell_type": "code",
      "source": [
        "client.close()"
      ],
      "metadata": {
        "id": "qZkFPLVtutls"
      },
      "execution_count": 33,
      "outputs": []
    },
    {
      "cell_type": "code",
      "source": [],
      "metadata": {
        "id": "x00DXcwVy0EM"
      },
      "execution_count": null,
      "outputs": []
    }
  ]
}