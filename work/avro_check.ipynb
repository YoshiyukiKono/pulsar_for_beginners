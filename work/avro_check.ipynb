{
  "nbformat": 4,
  "nbformat_minor": 0,
  "metadata": {
    "colab": {
      "provenance": [],
      "authorship_tag": "ABX9TyPdkFNcp6G/M4/oXqlD5rfx",
      "include_colab_link": true
    },
    "kernelspec": {
      "name": "python3",
      "display_name": "Python 3"
    },
    "language_info": {
      "name": "python"
    }
  },
  "cells": [
    {
      "cell_type": "markdown",
      "metadata": {
        "id": "view-in-github",
        "colab_type": "text"
      },
      "source": [
        "<a href=\"https://colab.research.google.com/github/YoshiyukiKono/pulsar_for_beginners/blob/main/work/avro_check.ipynb\" target=\"_parent\"><img src=\"https://colab.research.google.com/assets/colab-badge.svg\" alt=\"Open In Colab\"/></a>"
      ]
    },
    {
      "cell_type": "code",
      "source": [
        "!pip install 'pulsar-client[avro]'"
      ],
      "metadata": {
        "colab": {
          "base_uri": "https://localhost:8080/"
        },
        "id": "x__nzeAq_iDL",
        "outputId": "2f304645-1f5d-406d-f2f6-14e805557c1f"
      },
      "execution_count": 1,
      "outputs": [
        {
          "output_type": "stream",
          "name": "stdout",
          "text": [
            "Collecting pulsar-client[avro]\n",
            "  Downloading pulsar_client-3.3.0-cp310-cp310-manylinux_2_17_x86_64.manylinux2014_x86_64.whl (5.4 MB)\n",
            "\u001b[2K     \u001b[90m━━━━━━━━━━━━━━━━━━━━━━━━━━━━━━━━━━━━━━━━\u001b[0m \u001b[32m5.4/5.4 MB\u001b[0m \u001b[31m16.8 MB/s\u001b[0m eta \u001b[36m0:00:00\u001b[0m\n",
            "\u001b[?25hRequirement already satisfied: certifi in /usr/local/lib/python3.10/dist-packages (from pulsar-client[avro]) (2023.7.22)\n",
            "Collecting fastavro==1.7.3 (from pulsar-client[avro])\n",
            "  Downloading fastavro-1.7.3-cp310-cp310-manylinux_2_17_x86_64.manylinux2014_x86_64.whl (2.6 MB)\n",
            "\u001b[2K     \u001b[90m━━━━━━━━━━━━━━━━━━━━━━━━━━━━━━━━━━━━━━━━\u001b[0m \u001b[32m2.6/2.6 MB\u001b[0m \u001b[31m40.8 MB/s\u001b[0m eta \u001b[36m0:00:00\u001b[0m\n",
            "\u001b[?25hInstalling collected packages: pulsar-client, fastavro\n",
            "Successfully installed fastavro-1.7.3 pulsar-client-3.3.0\n"
          ]
        }
      ]
    },
    {
      "cell_type": "code",
      "source": [
        "import pulsar\n",
        "from pulsar.schema import *\n",
        "from datetime import datetime\n",
        "import random\n",
        "\n",
        "class Example(Record):\n",
        "    sensor = String()\n",
        "    # added = String()\n",
        "    temperature = Integer()"
      ],
      "metadata": {
        "id": "HwJUSrSg_u1K"
      },
      "execution_count": 2,
      "outputs": []
    },
    {
      "cell_type": "code",
      "source": [
        "schema=AvroSchema(Example)"
      ],
      "metadata": {
        "id": "7Wwvx6gA_0H7"
      },
      "execution_count": 3,
      "outputs": []
    },
    {
      "cell_type": "code",
      "execution_count": null,
      "metadata": {
        "id": "R0fAlhum_hEm"
      },
      "outputs": [],
      "source": [
        "import pulsar\n",
        "from pulsar.schema import *\n",
        "from datetime import datetime\n",
        "import random\n",
        "\n",
        "class Example(Record):\n",
        "    sensor = String()\n",
        "    # added = String()\n",
        "    temperature = Integer()\n",
        "\n",
        "service_url = 'pulsar+ssl://pulsar-gcp-useast4.streaming.datastax.com:6651'\n",
        "\n",
        "trust_certs='/etc/ssl/certs/ca-certificates.crt'\n",
        "\n",
        "token='mytokenhere'\n",
        "\n",
        "client = pulsar.Client(service_url,\n",
        "                        authentication=pulsar.AuthenticationToken(token),\n",
        "                        tls_trust_certs_file_path=trust_certs)\n",
        "producer = client.create_producer('persistent://my-tenant/my-namespace/my-topic', schema=AvroSchema(Example))\n",
        "\n",
        "\n",
        "producer.send(Example(sensor=str(uuid.uuid4()), temperature=random.randrange(20,30)))\n",
        "\n",
        "client.close()"
      ]
    }
  ]
}