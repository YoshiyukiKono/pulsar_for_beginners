{
  "nbformat": 4,
  "nbformat_minor": 0,
  "metadata": {
    "colab": {
      "provenance": [],
      "include_colab_link": true
    },
    "kernelspec": {
      "name": "python3",
      "display_name": "Python 3"
    },
    "language_info": {
      "name": "python"
    }
  },
  "cells": [
    {
      "cell_type": "markdown",
      "metadata": {
        "id": "view-in-github",
        "colab_type": "text"
      },
      "source": [
        "<a href=\"https://colab.research.google.com/github/YoshiyukiKono/pulsar_for_beginners/blob/main/pulsar_client.ipynb\" target=\"_parent\"><img src=\"https://colab.research.google.com/assets/colab-badge.svg\" alt=\"Open In Colab\"/></a>"
      ]
    },
    {
      "cell_type": "markdown",
      "source": [
        "# Pulsar クライアント開発演習\n",
        "\n",
        "## 概要\n",
        "\n",
        "### 事前準備\n",
        " - 環境準備\n",
        "  - Astraアカウント登録・サインイン\n",
        "  - Astra DB データベース、キースペース作成\n",
        "  - Astra Streaming テナント作成\n",
        "\n",
        " - 開発準備\n",
        "  - Astra DB テーブル作成\n",
        "  - Astra Streaming ネームスペース、トピック、サブスクリプション作成\n",
        "  - Astra DB トークン生成\n",
        "  - Astra Streaming トークン生成\n",
        " - データベース連携\n",
        "  - Astra Streaming Sink作成\n",
        "\n",
        "### 演習概要\n",
        "\n",
        "#### 第一部 Pulsar データ入力\n",
        " - Pulsarクライアントライブラリインストール\n",
        " - Pulsar接続設定\n",
        " - Pulsarプロデューサー実行\n",
        "  - Astra DBへのSink結果の確認\n",
        " - Pulsarコンシューマー実行\n",
        " - Astra DB CDC\n",
        "\n",
        "#### 第二部 Astra DB CDC + Pulsarデータ出力\n",
        " - Astraコントロールプレーンでの操作\n",
        "  - Astra DB CDC作成\n",
        "  - Astra Streaming CDC用ネームスペース、トピック確認\n",
        "  - Astra Streaming CDC用サブスクリプション作成\n",
        " - 本演習ノートブックでの操作\n",
        "  - Pulsarコンシューマー実行\n",
        "\n",
        "---\n",
        "\n",
        "## 演習: 第一部 Pulsar データ入力\n",
        "\n",
        "### Pulsarクライアントライブラリインストール"
      ],
      "metadata": {
        "id": "1Dba4UhpnMvL"
      }
    },
    {
      "cell_type": "code",
      "source": [
        "!pip install pulsar-client"
      ],
      "metadata": {
        "colab": {
          "base_uri": "https://localhost:8080/"
        },
        "id": "GSMV-zHNZW8U",
        "outputId": "394dac3a-dca0-4783-e8a5-61470487a158"
      },
      "execution_count": 1,
      "outputs": [
        {
          "output_type": "stream",
          "name": "stdout",
          "text": [
            "Collecting pulsar-client\n",
            "  Downloading pulsar_client-3.3.0-cp310-cp310-manylinux_2_17_x86_64.manylinux2014_x86_64.whl (5.4 MB)\n",
            "\u001b[2K     \u001b[90m━━━━━━━━━━━━━━━━━━━━━━━━━━━━━━━━━━━━━━━━\u001b[0m \u001b[32m5.4/5.4 MB\u001b[0m \u001b[31m74.6 MB/s\u001b[0m eta \u001b[36m0:00:00\u001b[0m\n",
            "\u001b[?25hRequirement already satisfied: certifi in /usr/local/lib/python3.10/dist-packages (from pulsar-client) (2023.7.22)\n",
            "Installing collected packages: pulsar-client\n",
            "Successfully installed pulsar-client-3.3.0\n"
          ]
        }
      ]
    },
    {
      "cell_type": "markdown",
      "source": [
        "### Astra Streaming 接続設定"
      ],
      "metadata": {
        "id": "R5MNiiVFo0X1"
      }
    },
    {
      "cell_type": "code",
      "source": [
        "service_url = input(\"service url:\")\n"
      ],
      "metadata": {
        "id": "GHCnV6Muaix-",
        "outputId": "492b463a-10f0-4170-c759-c03137998416",
        "colab": {
          "base_uri": "https://localhost:8080/"
        }
      },
      "execution_count": 2,
      "outputs": [
        {
          "name": "stdout",
          "output_type": "stream",
          "text": [
            "service url:pulsar+ssl://pulsar-gcp-australiase1.streaming.datastax.com:6651\n"
          ]
        }
      ]
    },
    {
      "cell_type": "code",
      "source": [
        "import getpass\n",
        "\n",
        "token = getpass.getpass()"
      ],
      "metadata": {
        "id": "xRkA8DkPajAg",
        "outputId": "05430489-91e8-4da1-ef31-c45dde85343f",
        "colab": {
          "base_uri": "https://localhost:8080/"
        }
      },
      "execution_count": 3,
      "outputs": [
        {
          "name": "stdout",
          "output_type": "stream",
          "text": [
            "··········\n"
          ]
        }
      ]
    },
    {
      "cell_type": "code",
      "source": [
        "print(\"token:\" + token[0:5] + \"...\" + token[-5:])\n",
        "print(\"token length:\" + str(len(token)))"
      ],
      "metadata": {
        "id": "3LmFlwLdqSz2",
        "outputId": "3284dd90-2bee-4c99-8888-aafe298b532b",
        "colab": {
          "base_uri": "https://localhost:8080/"
        }
      },
      "execution_count": 6,
      "outputs": [
        {
          "output_type": "stream",
          "name": "stdout",
          "text": [
            "token: eyJhb...euW8Q\n",
            "token length:548\n"
          ]
        }
      ]
    },
    {
      "cell_type": "code",
      "source": [
        "your_tenant_name = input(\"tenant name:\")"
      ],
      "metadata": {
        "id": "tOLQ_vIhmzSN",
        "outputId": "5f25777b-68dc-4f0f-8f20-d37ef3f47685",
        "colab": {
          "base_uri": "https://localhost:8080/"
        }
      },
      "execution_count": 7,
      "outputs": [
        {
          "name": "stdout",
          "output_type": "stream",
          "text": [
            "tenant name:cdc\n",
            "namespace:default\n"
          ]
        }
      ]
    },
    {
      "cell_type": "code",
      "source": [
        "your_namespace = input(\"namespace:\")\n",
        "your_topic_name = input(\"topic name:\")\n",
        "topic_url = 'persistent://' + your_tenant_name + '/' + your_namespace + '/' + your_topic_name\n",
        "print(\"topic url:\" + topic_url)"
      ],
      "metadata": {
        "id": "SgsrE9D_nIZY",
        "outputId": "0c55ec85-0a06-42aa-81c5-302e5a3f7d6f",
        "colab": {
          "base_uri": "https://localhost:8080/"
        }
      },
      "execution_count": 17,
      "outputs": [
        {
          "output_type": "stream",
          "name": "stdout",
          "text": [
            "namespace:default\n",
            "topic name:astrasink\n",
            "topic url:persistent://cdc/default/astrasink\n"
          ]
        }
      ]
    },
    {
      "cell_type": "code",
      "source": [
        "import pulsar\n",
        "\n",
        "client = pulsar.Client(service_url,\n",
        "                        authentication=pulsar.AuthenticationToken(token))\n",
        "topic_partitions = client.get_topic_partitions(topic_url)\n",
        "print(topic_partitions)"
      ],
      "metadata": {
        "id": "k3DxYZlSnc6W",
        "outputId": "450ffc6b-2d02-479e-9cdc-1a9d6df6c5f2",
        "colab": {
          "base_uri": "https://localhost:8080/"
        }
      },
      "execution_count": 11,
      "outputs": [
        {
          "output_type": "stream",
          "name": "stdout",
          "text": [
            "['persistent://cdc/default/astrasink']\n"
          ]
        }
      ]
    },
    {
      "cell_type": "markdown",
      "source": [
        "## Pulsarプロデューサー実行"
      ],
      "metadata": {
        "id": "IKhGrP4LmNKx"
      }
    },
    {
      "cell_type": "code",
      "source": [
        "from pulsar.schema import *\n",
        "\n",
        "class Message(Record):\n",
        "    message_id = String()\n",
        "    message = String()\n",
        "\n",
        "producer = client.create_producer(topic_url,schema=JsonSchema(Message))\n",
        "\n",
        "message = Message()\n",
        "\n",
        "for i in range(10):\n",
        "    message.message_id = str(i)\n",
        "    message.message = \"Hello\" + str(i)\n",
        "    producer.send(message)\n",
        "\n",
        "producer.close()"
      ],
      "metadata": {
        "id": "IGC6xkiFoJk2"
      },
      "execution_count": 12,
      "outputs": []
    },
    {
      "cell_type": "markdown",
      "source": [
        "## Pulsarコンシューマー実行"
      ],
      "metadata": {
        "id": "wDvW5CX-nCq6"
      }
    },
    {
      "cell_type": "code",
      "source": [
        "subscription_name = input(\"subsuctiption name:\")"
      ],
      "metadata": {
        "id": "uUHktHQUmy-s",
        "outputId": "4f6377db-e449-4da6-c9f7-0e3437acb33b",
        "colab": {
          "base_uri": "https://localhost:8080/"
        }
      },
      "execution_count": 13,
      "outputs": [
        {
          "name": "stdout",
          "output_type": "stream",
          "text": [
            "subsuctiption name:sub\n"
          ]
        }
      ]
    },
    {
      "cell_type": "code",
      "source": [
        "import pulsar\n",
        "import time\n",
        "\n",
        "MODE_RUNNING = False\n",
        "\n",
        "consumer = client.subscribe(topic_url, subscription_name)\n",
        "\n",
        "try:\n",
        "    waitingForMsg = True\n",
        "    while waitingForMsg:\n",
        "        try:\n",
        "            msg = consumer.receive(2000)\n",
        "\n",
        "            try:\n",
        "                print(\"Received message '{}' id='{}'\".format(msg.data(), msg.message_id()))\n",
        "                # Acknowledging the message to remove from message backlog\n",
        "                consumer.acknowledge(msg)\n",
        "            except:\n",
        "                consumer.negative_acknowledge(msg)\n",
        "\n",
        "        except Exception as ex:\n",
        "            print(ex)\n",
        "            if MODE_RUNNING:\n",
        "                print(\"Still waiting for a message...\");\n",
        "            else:\n",
        "                print(\"Stop waiting for a message.\");\n",
        "                waitingForMsg = False\n",
        "        time.sleep(1)\n",
        "\n",
        "finally:\n",
        "  consumer.close()"
      ],
      "metadata": {
        "id": "ExShWr1jvEB7",
        "outputId": "8bf0d4c2-3b6e-4f77-914f-f0949f6f781a",
        "colab": {
          "base_uri": "https://localhost:8080/"
        }
      },
      "execution_count": 14,
      "outputs": [
        {
          "output_type": "stream",
          "name": "stdout",
          "text": [
            "Received message 'b'{\\n \"message_id\": \"0\",\\n \"message\": \"Hello0\"\\n}'' id='(435390,0,-1,-1)'\n",
            "Received message 'b'{\\n \"message_id\": \"1\",\\n \"message\": \"Hello1\"\\n}'' id='(435390,1,-1,-1)'\n",
            "Received message 'b'{\\n \"message_id\": \"2\",\\n \"message\": \"Hello2\"\\n}'' id='(435390,2,-1,-1)'\n",
            "Received message 'b'{\\n \"message_id\": \"3\",\\n \"message\": \"Hello3\"\\n}'' id='(435390,3,-1,-1)'\n",
            "Received message 'b'{\\n \"message_id\": \"4\",\\n \"message\": \"Hello4\"\\n}'' id='(435390,4,-1,-1)'\n",
            "Received message 'b'{\\n \"message_id\": \"5\",\\n \"message\": \"Hello5\"\\n}'' id='(435390,5,-1,-1)'\n",
            "Received message 'b'{\\n \"message_id\": \"6\",\\n \"message\": \"Hello6\"\\n}'' id='(435390,6,-1,-1)'\n",
            "Received message 'b'{\\n \"message_id\": \"7\",\\n \"message\": \"Hello7\"\\n}'' id='(435390,7,-1,-1)'\n",
            "Received message 'b'{\\n \"message_id\": \"8\",\\n \"message\": \"Hello8\"\\n}'' id='(435390,8,-1,-1)'\n",
            "Received message 'b'{\\n \"message_id\": \"9\",\\n \"message\": \"Hello9\"\\n}'' id='(435390,9,-1,-1)'\n",
            "Pulsar error: TimeOut\n",
            "Stop waiting for a message.\n"
          ]
        }
      ]
    },
    {
      "cell_type": "code",
      "source": [
        "client.close()"
      ],
      "metadata": {
        "id": "qZkFPLVtutls"
      },
      "execution_count": 15,
      "outputs": []
    },
    {
      "cell_type": "markdown",
      "source": [
        "---\n",
        "\n",
        "## 演習 第二部 Astra DB CDC + Pulsarデータ出力"
      ],
      "metadata": {
        "id": "4rlU06HFryqB"
      }
    },
    {
      "cell_type": "code",
      "source": [
        "your_namespace = input(\"namespace:\")\n",
        "your_topic_name = input(\"topic name:\")\n",
        "topic_url = 'persistent://' + your_tenant_name + '/' + your_namespace + '/' + your_topic_name\n",
        "print(\"topic url:\" + topic_url)"
      ],
      "metadata": {
        "id": "H17TG4RwZYlc",
        "outputId": "4653094b-df3c-4e52-f7bd-f4c1d1603e2d",
        "colab": {
          "base_uri": "https://localhost:8080/"
        }
      },
      "execution_count": 18,
      "outputs": [
        {
          "output_type": "stream",
          "name": "stdout",
          "text": [
            "namespace:astracdc\n",
            "topic name:data-b04d69bb-6851-4bac-9703-8108dc560c41-cdc.cdc_test\n",
            "topic url:persistent://cdc/astracdc/data-b04d69bb-6851-4bac-9703-8108dc560c41-cdc.cdc_test\n"
          ]
        }
      ]
    },
    {
      "cell_type": "code",
      "source": [
        "import pulsar\n",
        "\n",
        "client = pulsar.Client(service_url,\n",
        "                        authentication=pulsar.AuthenticationToken(token))\n",
        "topic_partitions = client.get_topic_partitions(topic_url)\n",
        "print(topic_partitions)"
      ],
      "metadata": {
        "id": "aPEjVPkMttsy",
        "outputId": "e3134563-b493-49a0-d796-40f804aee38b",
        "colab": {
          "base_uri": "https://localhost:8080/"
        }
      },
      "execution_count": 21,
      "outputs": [
        {
          "output_type": "stream",
          "name": "stdout",
          "text": [
            "['persistent://cdc/astracdc/data-b04d69bb-6851-4bac-9703-8108dc560c41-cdc.cdc_test-partition-0', 'persistent://cdc/astracdc/data-b04d69bb-6851-4bac-9703-8108dc560c41-cdc.cdc_test-partition-1', 'persistent://cdc/astracdc/data-b04d69bb-6851-4bac-9703-8108dc560c41-cdc.cdc_test-partition-2']\n"
          ]
        }
      ]
    },
    {
      "cell_type": "code",
      "source": [
        "subscription_name = input(\"subsuctiption name:\")"
      ],
      "metadata": {
        "id": "ZWDONV7ttG8g",
        "outputId": "7c155c46-4de3-4c94-d693-c23f369a6c46",
        "colab": {
          "base_uri": "https://localhost:8080/"
        }
      },
      "execution_count": 19,
      "outputs": [
        {
          "name": "stdout",
          "output_type": "stream",
          "text": [
            "subsuctiption name:cdcsub\n"
          ]
        }
      ]
    },
    {
      "cell_type": "code",
      "source": [
        "!pip3 install 'pulsar-client[avro]'"
      ],
      "metadata": {
        "id": "x6v-BcI4vWk2",
        "outputId": "c6b19a9a-e05c-4813-c89f-10c144175949",
        "colab": {
          "base_uri": "https://localhost:8080/"
        }
      },
      "execution_count": 26,
      "outputs": [
        {
          "output_type": "stream",
          "name": "stdout",
          "text": [
            "Requirement already satisfied: pulsar-client[avro] in /usr/local/lib/python3.10/dist-packages (3.3.0)\n",
            "Requirement already satisfied: certifi in /usr/local/lib/python3.10/dist-packages (from pulsar-client[avro]) (2023.7.22)\n",
            "Collecting fastavro==1.7.3 (from pulsar-client[avro])\n",
            "  Downloading fastavro-1.7.3-cp310-cp310-manylinux_2_17_x86_64.manylinux2014_x86_64.whl (2.6 MB)\n",
            "\u001b[2K     \u001b[90m━━━━━━━━━━━━━━━━━━━━━━━━━━━━━━━━━━━━━━━━\u001b[0m \u001b[32m2.6/2.6 MB\u001b[0m \u001b[31m20.4 MB/s\u001b[0m eta \u001b[36m0:00:00\u001b[0m\n",
            "\u001b[?25hInstalling collected packages: fastavro\n",
            "Successfully installed fastavro-1.7.3\n"
          ]
        }
      ]
    },
    {
      "cell_type": "code",
      "source": [
        "AvroSchema"
      ],
      "metadata": {
        "id": "KRDHlC5EvlMX",
        "outputId": "ffdb23e1-24b3-426a-cf77-c9fab197418b",
        "colab": {
          "base_uri": "https://localhost:8080/"
        }
      },
      "execution_count": 29,
      "outputs": [
        {
          "output_type": "execute_result",
          "data": {
            "text/plain": [
              "pulsar.schema.schema_avro.AvroSchema"
            ]
          },
          "metadata": {},
          "execution_count": 29
        }
      ]
    },
    {
      "cell_type": "code",
      "source": [
        "!pip3 install fastavro pytz"
      ],
      "metadata": {
        "id": "TADPVVqXvwlA",
        "outputId": "1cb31294-45fe-4cd4-e693-8176f8afb184",
        "colab": {
          "base_uri": "https://localhost:8080/"
        }
      },
      "execution_count": 30,
      "outputs": [
        {
          "output_type": "stream",
          "name": "stdout",
          "text": [
            "Requirement already satisfied: fastavro in /usr/local/lib/python3.10/dist-packages (1.7.3)\n",
            "Requirement already satisfied: pytz in /usr/local/lib/python3.10/dist-packages (2023.3.post1)\n"
          ]
        }
      ]
    },
    {
      "cell_type": "code",
      "source": [
        "import pulsar\n",
        "from pulsar.schema import *\n",
        "import time\n",
        "\n",
        "MODE_RUNNING = False\n",
        "\n",
        "consumer = client.subscribe(topic_url, subscription_name)\n",
        "\n",
        "try:\n",
        "    waitingForMsg = True\n",
        "    while waitingForMsg:\n",
        "        try:\n",
        "            msg = consumer.receive(2000)\n",
        "\n",
        "            try:\n",
        "                print(\"Received message '{}' id='{}'\".format(msg.data(), msg.message_id()))\n",
        "                # Acknowledging the message to remove from message backlog\n",
        "                consumer.acknowledge(msg)\n",
        "            except:\n",
        "                consumer.negative_acknowledge(msg)\n",
        "\n",
        "        except Exception as ex:\n",
        "            print(ex)\n",
        "            if MODE_RUNNING:\n",
        "                print(\"Still waiting for a message...\");\n",
        "            else:\n",
        "                print(\"Stop waiting for a message.\");\n",
        "                waitingForMsg = False\n",
        "        time.sleep(1)\n",
        "\n",
        "finally:\n",
        "  consumer.close()"
      ],
      "metadata": {
        "id": "IqyYVS0Uth2F",
        "outputId": "31e322d5-dba7-4231-945d-a0315ecccb6b",
        "colab": {
          "base_uri": "https://localhost:8080/"
        }
      },
      "execution_count": 34,
      "outputs": [
        {
          "output_type": "stream",
          "name": "stdout",
          "text": [
            "Received message 'b'\\x02\\x10good-by2'' id='(435404,2,2,-1)'\n",
            "Pulsar error: TimeOut\n",
            "Stop waiting for a message.\n"
          ]
        }
      ]
    },
    {
      "cell_type": "code",
      "source": [
        "consumer = client.subscribe(topic_url, subscription_name,schema=JsonSchema(Message))"
      ],
      "metadata": {
        "id": "sq4xVs0Itlta",
        "outputId": "835a461a-e94d-49e9-9d5b-8d9fdb1d4064",
        "colab": {
          "base_uri": "https://localhost:8080/",
          "height": 375
        }
      },
      "execution_count": 99,
      "outputs": [
        {
          "output_type": "error",
          "ename": "IncompatibleSchema",
          "evalue": "ignored",
          "traceback": [
            "\u001b[0;31m---------------------------------------------------------------------------\u001b[0m",
            "\u001b[0;31mIncompatibleSchema\u001b[0m                        Traceback (most recent call last)",
            "\u001b[0;32m<ipython-input-99-d55bce3e6bcd>\u001b[0m in \u001b[0;36m<cell line: 1>\u001b[0;34m()\u001b[0m\n\u001b[0;32m----> 1\u001b[0;31m \u001b[0mconsumer\u001b[0m \u001b[0;34m=\u001b[0m \u001b[0mclient\u001b[0m\u001b[0;34m.\u001b[0m\u001b[0msubscribe\u001b[0m\u001b[0;34m(\u001b[0m\u001b[0mtopic_url\u001b[0m\u001b[0;34m,\u001b[0m \u001b[0msubscription_name\u001b[0m\u001b[0;34m,\u001b[0m\u001b[0mschema\u001b[0m\u001b[0;34m=\u001b[0m\u001b[0mJsonSchema\u001b[0m\u001b[0;34m(\u001b[0m\u001b[0mMessage\u001b[0m\u001b[0;34m)\u001b[0m\u001b[0;34m)\u001b[0m\u001b[0;34m\u001b[0m\u001b[0;34m\u001b[0m\u001b[0m\n\u001b[0m",
            "\u001b[0;32m/usr/local/lib/python3.10/dist-packages/pulsar/__init__.py\u001b[0m in \u001b[0;36msubscribe\u001b[0;34m(self, topic, subscription_name, consumer_type, schema, message_listener, receiver_queue_size, max_total_receiver_queue_size_across_partitions, consumer_name, unacked_messages_timeout_ms, broker_consumer_stats_cache_time_ms, negative_ack_redelivery_delay_ms, is_read_compacted, properties, pattern_auto_discovery_period, initial_position, crypto_key_reader, replicate_subscription_state_enabled, max_pending_chunked_message, auto_ack_oldest_chunked_message_on_queue_full, start_message_id_inclusive, batch_receive_policy, key_shared_policy, batch_index_ack_enabled, regex_subscription_mode, dead_letter_policy)\u001b[0m\n\u001b[1;32m    938\u001b[0m         \u001b[0;32mif\u001b[0m \u001b[0misinstance\u001b[0m\u001b[0;34m(\u001b[0m\u001b[0mtopic\u001b[0m\u001b[0;34m,\u001b[0m \u001b[0mstr\u001b[0m\u001b[0;34m)\u001b[0m\u001b[0;34m:\u001b[0m\u001b[0;34m\u001b[0m\u001b[0;34m\u001b[0m\u001b[0m\n\u001b[1;32m    939\u001b[0m             \u001b[0;31m# Single topic\u001b[0m\u001b[0;34m\u001b[0m\u001b[0;34m\u001b[0m\u001b[0m\n\u001b[0;32m--> 940\u001b[0;31m             \u001b[0mc\u001b[0m\u001b[0;34m.\u001b[0m\u001b[0m_consumer\u001b[0m \u001b[0;34m=\u001b[0m \u001b[0mself\u001b[0m\u001b[0;34m.\u001b[0m\u001b[0m_client\u001b[0m\u001b[0;34m.\u001b[0m\u001b[0msubscribe\u001b[0m\u001b[0;34m(\u001b[0m\u001b[0mtopic\u001b[0m\u001b[0;34m,\u001b[0m \u001b[0msubscription_name\u001b[0m\u001b[0;34m,\u001b[0m \u001b[0mconf\u001b[0m\u001b[0;34m)\u001b[0m\u001b[0;34m\u001b[0m\u001b[0;34m\u001b[0m\u001b[0m\n\u001b[0m\u001b[1;32m    941\u001b[0m         \u001b[0;32melif\u001b[0m \u001b[0misinstance\u001b[0m\u001b[0;34m(\u001b[0m\u001b[0mtopic\u001b[0m\u001b[0;34m,\u001b[0m \u001b[0mlist\u001b[0m\u001b[0;34m)\u001b[0m\u001b[0;34m:\u001b[0m\u001b[0;34m\u001b[0m\u001b[0;34m\u001b[0m\u001b[0m\n\u001b[1;32m    942\u001b[0m             \u001b[0;31m# List of topics\u001b[0m\u001b[0;34m\u001b[0m\u001b[0;34m\u001b[0m\u001b[0m\n",
            "\u001b[0;31mIncompatibleSchema\u001b[0m: Pulsar error: IncompatibleSchema"
          ]
        }
      ]
    },
    {
      "cell_type": "code",
      "source": [
        "!pip3 install 'pulsar-client[all]'"
      ],
      "metadata": {
        "id": "h8ffqL3r8Sbt",
        "outputId": "00d9dff0-c5cd-4e86-e030-2e7006454b9f",
        "colab": {
          "base_uri": "https://localhost:8080/"
        }
      },
      "execution_count": 106,
      "outputs": [
        {
          "output_type": "stream",
          "name": "stdout",
          "text": [
            "Requirement already satisfied: pulsar-client[all] in /usr/local/lib/python3.10/dist-packages (3.3.0)\n",
            "Requirement already satisfied: certifi in /usr/local/lib/python3.10/dist-packages (from pulsar-client[all]) (2023.7.22)\n",
            "Collecting apache-bookkeeper-client>=4.16.1 (from pulsar-client[all])\n",
            "  Downloading apache_bookkeeper_client-4.16.3-py2.py3-none-any.whl (62 kB)\n",
            "\u001b[2K     \u001b[90m━━━━━━━━━━━━━━━━━━━━━━━━━━━━━━━━━━━━━━━━\u001b[0m \u001b[32m62.4/62.4 kB\u001b[0m \u001b[31m3.3 MB/s\u001b[0m eta \u001b[36m0:00:00\u001b[0m\n",
            "\u001b[?25hRequirement already satisfied: fastavro==1.7.3 in /usr/local/lib/python3.10/dist-packages (from pulsar-client[all]) (1.7.3)\n",
            "Requirement already satisfied: grpcio>=1.8.2 in /usr/local/lib/python3.10/dist-packages (from pulsar-client[all]) (1.59.2)\n",
            "Requirement already satisfied: prometheus-client in /usr/local/lib/python3.10/dist-packages (from pulsar-client[all]) (0.18.0)\n",
            "Requirement already satisfied: protobuf<=3.20.3,>=3.6.1 in /usr/local/lib/python3.10/dist-packages (from pulsar-client[all]) (3.20.3)\n",
            "Collecting ratelimit (from pulsar-client[all])\n",
            "  Downloading ratelimit-2.2.1.tar.gz (5.3 kB)\n",
            "  Preparing metadata (setup.py) ... \u001b[?25l\u001b[?25hdone\n",
            "Requirement already satisfied: setuptools>=34.0.0 in /usr/local/lib/python3.10/dist-packages (from apache-bookkeeper-client>=4.16.1->pulsar-client[all]) (67.7.2)\n",
            "Requirement already satisfied: six>=1.10.0 in /usr/local/lib/python3.10/dist-packages (from apache-bookkeeper-client>=4.16.1->pulsar-client[all]) (1.16.0)\n",
            "Requirement already satisfied: pytz in /usr/local/lib/python3.10/dist-packages (from apache-bookkeeper-client>=4.16.1->pulsar-client[all]) (2023.3.post1)\n",
            "Collecting pymmh3>=0.0.5 (from apache-bookkeeper-client>=4.16.1->pulsar-client[all])\n",
            "  Downloading pymmh3-0.0.5-py2.py3-none-any.whl (7.4 kB)\n",
            "Building wheels for collected packages: ratelimit\n",
            "  Building wheel for ratelimit (setup.py) ... \u001b[?25l\u001b[?25hdone\n",
            "  Created wheel for ratelimit: filename=ratelimit-2.2.1-py3-none-any.whl size=5894 sha256=1dc907753589a6f3b7ec2a24f2b548ae8aec6cad3c4e3ec8fededff23da06fc2\n",
            "  Stored in directory: /root/.cache/pip/wheels/27/5f/ba/e972a56dcbf5de9f2b7d2b2a710113970bd173c4dcd3d2c902\n",
            "Successfully built ratelimit\n",
            "Installing collected packages: ratelimit, pymmh3, apache-bookkeeper-client\n",
            "Successfully installed apache-bookkeeper-client-4.16.3 pymmh3-0.0.5 ratelimit-2.2.1\n"
          ]
        }
      ]
    },
    {
      "cell_type": "code",
      "source": [
        "import pulsar\n",
        "from pulsar.schema import *\n",
        "consumer = client.subscribe(topic_url, subscription_name,schema=AvroSchema(Message()))"
      ],
      "metadata": {
        "id": "Ds5C8vmpx1iQ",
        "outputId": "7c305144-aa86-4bb8-9c36-7bf42fb2af9e",
        "colab": {
          "base_uri": "https://localhost:8080/",
          "height": 339
        }
      },
      "execution_count": 107,
      "outputs": [
        {
          "output_type": "error",
          "ename": "Exception",
          "evalue": "ignored",
          "traceback": [
            "\u001b[0;31m---------------------------------------------------------------------------\u001b[0m",
            "\u001b[0;31mException\u001b[0m                                 Traceback (most recent call last)",
            "\u001b[0;32m<ipython-input-107-1d6771fcc217>\u001b[0m in \u001b[0;36m<cell line: 3>\u001b[0;34m()\u001b[0m\n\u001b[1;32m      1\u001b[0m \u001b[0;32mimport\u001b[0m \u001b[0mpulsar\u001b[0m\u001b[0;34m\u001b[0m\u001b[0;34m\u001b[0m\u001b[0m\n\u001b[1;32m      2\u001b[0m \u001b[0;32mfrom\u001b[0m \u001b[0mpulsar\u001b[0m\u001b[0;34m.\u001b[0m\u001b[0mschema\u001b[0m \u001b[0;32mimport\u001b[0m \u001b[0;34m*\u001b[0m\u001b[0;34m\u001b[0m\u001b[0;34m\u001b[0m\u001b[0m\n\u001b[0;32m----> 3\u001b[0;31m \u001b[0mconsumer\u001b[0m \u001b[0;34m=\u001b[0m \u001b[0mclient\u001b[0m\u001b[0;34m.\u001b[0m\u001b[0msubscribe\u001b[0m\u001b[0;34m(\u001b[0m\u001b[0mtopic_url\u001b[0m\u001b[0;34m,\u001b[0m \u001b[0msubscription_name\u001b[0m\u001b[0;34m,\u001b[0m\u001b[0mschema\u001b[0m\u001b[0;34m=\u001b[0m\u001b[0mAvroSchema\u001b[0m\u001b[0;34m(\u001b[0m\u001b[0mMessage\u001b[0m\u001b[0;34m(\u001b[0m\u001b[0;34m)\u001b[0m\u001b[0;34m)\u001b[0m\u001b[0;34m)\u001b[0m\u001b[0;31m#value_type='keyvalue'))\u001b[0m\u001b[0;34m\u001b[0m\u001b[0;34m\u001b[0m\u001b[0m\n\u001b[0m",
            "\u001b[0;32m/usr/local/lib/python3.10/dist-packages/pulsar/schema/schema_avro.py\u001b[0m in \u001b[0;36m__init__\u001b[0;34m(self, _record_cls, _schema_definition)\u001b[0m\n\u001b[1;32m    130\u001b[0m     \u001b[0;32mclass\u001b[0m \u001b[0mAvroSchema\u001b[0m\u001b[0;34m(\u001b[0m\u001b[0mSchema\u001b[0m\u001b[0;34m)\u001b[0m\u001b[0;34m:\u001b[0m\u001b[0;34m\u001b[0m\u001b[0;34m\u001b[0m\u001b[0m\n\u001b[1;32m    131\u001b[0m         \u001b[0;32mdef\u001b[0m \u001b[0m__init__\u001b[0m\u001b[0;34m(\u001b[0m\u001b[0mself\u001b[0m\u001b[0;34m,\u001b[0m \u001b[0m_record_cls\u001b[0m\u001b[0;34m,\u001b[0m \u001b[0m_schema_definition\u001b[0m\u001b[0;34m=\u001b[0m\u001b[0;32mNone\u001b[0m\u001b[0;34m)\u001b[0m\u001b[0;34m:\u001b[0m\u001b[0;34m\u001b[0m\u001b[0;34m\u001b[0m\u001b[0m\n\u001b[0;32m--> 132\u001b[0;31m             raise Exception(\"Avro library support was not found. Make sure to install Pulsar client \" +\n\u001b[0m\u001b[1;32m    133\u001b[0m                             \"with Avro support: pip3 install 'pulsar-client[avro]'\")\n\u001b[1;32m    134\u001b[0m \u001b[0;34m\u001b[0m\u001b[0m\n",
            "\u001b[0;31mException\u001b[0m: Avro library support was not found. Make sure to install Pulsar client with Avro support: pip3 install 'pulsar-client[avro]'"
          ]
        }
      ]
    },
    {
      "cell_type": "code",
      "source": [
        "avro_schema_definition = \"\"\"{\n",
        "  \"key\": {\n",
        "    \"type\": \"record\",\n",
        "    \"name\": \"cdc_test\",\n",
        "    \"namespace\": \"_62303464363962622d363835312d346261632d393730332d383130386463353630633431_cdc\",\n",
        "    \"doc\": \"Table 62303464363962622d363835312d346261632d393730332d383130386463353630633431_cdc.cdc_test\",\n",
        "    \"fields\": [\n",
        "      {\n",
        "        \"name\": \"message_id\",\n",
        "        \"type\": \"string\"\n",
        "      }\n",
        "    ]\n",
        "  },\n",
        "  \"value\": {\n",
        "    \"type\": \"record\",\n",
        "    \"name\": \"cdc_test\",\n",
        "    \"namespace\": \"_62303464363962622d363835312d346261632d393730332d383130386463353630633431_cdc\",\n",
        "    \"doc\": \"Table 62303464363962622d363835312d346261632d393730332d383130386463353630633431_cdc.cdc_test\",\n",
        "    \"fields\": [\n",
        "      {\n",
        "        \"name\": \"message\",\n",
        "        \"type\": [\n",
        "          \"null\",\n",
        "          \"string\"\n",
        "        ],\n",
        "        \"default\": null\n",
        "      }\n",
        "    ]\n",
        "  }\n",
        "}\"\"\""
      ],
      "metadata": {
        "id": "3yTUXjJizYzv"
      },
      "execution_count": 44,
      "outputs": []
    },
    {
      "cell_type": "code",
      "source": [
        "!pip install avro"
      ],
      "metadata": {
        "id": "lLObcIIl16t-",
        "outputId": "a8fd6766-2cd4-4fdb-e76f-f42960c7d104",
        "colab": {
          "base_uri": "https://localhost:8080/"
        }
      },
      "execution_count": 49,
      "outputs": [
        {
          "output_type": "stream",
          "name": "stdout",
          "text": [
            "Collecting avro\n",
            "  Downloading avro-1.11.3.tar.gz (90 kB)\n",
            "\u001b[?25l     \u001b[90m━━━━━━━━━━━━━━━━━━━━━━━━━━━━━━━━━━━━━━━━\u001b[0m \u001b[32m0.0/90.6 kB\u001b[0m \u001b[31m?\u001b[0m eta \u001b[36m-:--:--\u001b[0m\r\u001b[2K     \u001b[90m━━━━━━━━━━━━━━━━━━━━━━━━━━━━━━━━━━━━━━━━\u001b[0m \u001b[32m90.6/90.6 kB\u001b[0m \u001b[31m3.7 MB/s\u001b[0m eta \u001b[36m0:00:00\u001b[0m\n",
            "\u001b[?25h  Installing build dependencies ... \u001b[?25l\u001b[?25hdone\n",
            "  Getting requirements to build wheel ... \u001b[?25l\u001b[?25hdone\n",
            "  Preparing metadata (pyproject.toml) ... \u001b[?25l\u001b[?25hdone\n",
            "Building wheels for collected packages: avro\n",
            "  Building wheel for avro (pyproject.toml) ... \u001b[?25l\u001b[?25hdone\n",
            "  Created wheel for avro: filename=avro-1.11.3-py2.py3-none-any.whl size=123911 sha256=98fbf4a1da0526262c522e15557be45ce67a5fcbedf0013623e6ee03a5ef2b4a\n",
            "  Stored in directory: /root/.cache/pip/wheels/1d/f6/41/0e0399396af07060e64d4e32c8bd259b48b98a4a114df31294\n",
            "Successfully built avro\n",
            "Installing collected packages: avro\n",
            "Successfully installed avro-1.11.3\n"
          ]
        }
      ]
    },
    {
      "cell_type": "code",
      "source": [
        "from avro import schema, io, datafile"
      ],
      "metadata": {
        "id": "wn4XarDg1sDZ"
      },
      "execution_count": 50,
      "outputs": []
    },
    {
      "cell_type": "code",
      "source": [
        "avro_schema = schema.parse(avro_schema_definition)"
      ],
      "metadata": {
        "id": "mj1beix614cK",
        "outputId": "cc717176-d980-4aa6-cfef-6692feda80cc",
        "colab": {
          "base_uri": "https://localhost:8080/",
          "height": 417
        }
      },
      "execution_count": 52,
      "outputs": [
        {
          "output_type": "error",
          "ename": "SchemaParseException",
          "evalue": "ignored",
          "traceback": [
            "\u001b[0;31m---------------------------------------------------------------------------\u001b[0m",
            "\u001b[0;31mSchemaParseException\u001b[0m                      Traceback (most recent call last)",
            "\u001b[0;32m<ipython-input-52-acc3a6f38662>\u001b[0m in \u001b[0;36m<cell line: 1>\u001b[0;34m()\u001b[0m\n\u001b[0;32m----> 1\u001b[0;31m \u001b[0mavro_schema\u001b[0m \u001b[0;34m=\u001b[0m \u001b[0mschema\u001b[0m\u001b[0;34m.\u001b[0m\u001b[0mparse\u001b[0m\u001b[0;34m(\u001b[0m\u001b[0mavro_schema_definition\u001b[0m\u001b[0;34m)\u001b[0m\u001b[0;34m\u001b[0m\u001b[0;34m\u001b[0m\u001b[0m\n\u001b[0m",
            "\u001b[0;32m/usr/local/lib/python3.10/dist-packages/avro/schema.py\u001b[0m in \u001b[0;36mparse\u001b[0;34m(json_string, validate_enum_symbols, validate_names)\u001b[0m\n\u001b[1;32m   1273\u001b[0m     \u001b[0;32mexcept\u001b[0m \u001b[0mjson\u001b[0m\u001b[0;34m.\u001b[0m\u001b[0mdecoder\u001b[0m\u001b[0;34m.\u001b[0m\u001b[0mJSONDecodeError\u001b[0m \u001b[0;32mas\u001b[0m \u001b[0me\u001b[0m\u001b[0;34m:\u001b[0m\u001b[0;34m\u001b[0m\u001b[0;34m\u001b[0m\u001b[0m\n\u001b[1;32m   1274\u001b[0m         \u001b[0;32mraise\u001b[0m \u001b[0mavro\u001b[0m\u001b[0;34m.\u001b[0m\u001b[0merrors\u001b[0m\u001b[0;34m.\u001b[0m\u001b[0mSchemaParseException\u001b[0m\u001b[0;34m(\u001b[0m\u001b[0;34mf\"Error parsing JSON: {json_string}, error = {e}\"\u001b[0m\u001b[0;34m)\u001b[0m \u001b[0;32mfrom\u001b[0m \u001b[0me\u001b[0m\u001b[0;34m\u001b[0m\u001b[0;34m\u001b[0m\u001b[0m\n\u001b[0;32m-> 1275\u001b[0;31m     \u001b[0;32mreturn\u001b[0m \u001b[0mmake_avsc_object\u001b[0m\u001b[0;34m(\u001b[0m\u001b[0mjson_data\u001b[0m\u001b[0;34m,\u001b[0m \u001b[0mNames\u001b[0m\u001b[0;34m(\u001b[0m\u001b[0mvalidate_names\u001b[0m\u001b[0;34m=\u001b[0m\u001b[0mvalidate_names\u001b[0m\u001b[0;34m)\u001b[0m\u001b[0;34m,\u001b[0m \u001b[0mvalidate_enum_symbols\u001b[0m\u001b[0;34m,\u001b[0m \u001b[0mvalidate_names\u001b[0m\u001b[0;34m)\u001b[0m\u001b[0;34m\u001b[0m\u001b[0;34m\u001b[0m\u001b[0m\n\u001b[0m\u001b[1;32m   1276\u001b[0m \u001b[0;34m\u001b[0m\u001b[0m\n\u001b[1;32m   1277\u001b[0m \u001b[0;34m\u001b[0m\u001b[0m\n",
            "\u001b[0;32m/usr/local/lib/python3.10/dist-packages/avro/schema.py\u001b[0m in \u001b[0;36mmake_avsc_object\u001b[0;34m(json_data, names, validate_enum_symbols, validate_names)\u001b[0m\n\u001b[1;32m   1246\u001b[0m                 \u001b[0;32mraise\u001b[0m \u001b[0mavro\u001b[0m\u001b[0;34m.\u001b[0m\u001b[0merrors\u001b[0m\u001b[0;34m.\u001b[0m\u001b[0mSchemaParseException\u001b[0m\u001b[0;34m(\u001b[0m\u001b[0;34mf\"Unknown Valid Type: {type_}\"\u001b[0m\u001b[0;34m)\u001b[0m\u001b[0;34m\u001b[0m\u001b[0;34m\u001b[0m\u001b[0m\n\u001b[1;32m   1247\u001b[0m         \u001b[0;32melif\u001b[0m \u001b[0mtype_\u001b[0m \u001b[0;32mis\u001b[0m \u001b[0;32mNone\u001b[0m\u001b[0;34m:\u001b[0m\u001b[0;34m\u001b[0m\u001b[0;34m\u001b[0m\u001b[0m\n\u001b[0;32m-> 1248\u001b[0;31m             \u001b[0;32mraise\u001b[0m \u001b[0mavro\u001b[0m\u001b[0;34m.\u001b[0m\u001b[0merrors\u001b[0m\u001b[0;34m.\u001b[0m\u001b[0mSchemaParseException\u001b[0m\u001b[0;34m(\u001b[0m\u001b[0;34mf'No \"type\" property: {json_data}'\u001b[0m\u001b[0;34m)\u001b[0m\u001b[0;34m\u001b[0m\u001b[0;34m\u001b[0m\u001b[0m\n\u001b[0m\u001b[1;32m   1249\u001b[0m         \u001b[0;32melse\u001b[0m\u001b[0;34m:\u001b[0m\u001b[0;34m\u001b[0m\u001b[0;34m\u001b[0m\u001b[0m\n\u001b[1;32m   1250\u001b[0m             \u001b[0;32mraise\u001b[0m \u001b[0mavro\u001b[0m\u001b[0;34m.\u001b[0m\u001b[0merrors\u001b[0m\u001b[0;34m.\u001b[0m\u001b[0mSchemaParseException\u001b[0m\u001b[0;34m(\u001b[0m\u001b[0;34mf\"Undefined type: {type_}\"\u001b[0m\u001b[0;34m)\u001b[0m\u001b[0;34m\u001b[0m\u001b[0;34m\u001b[0m\u001b[0m\n",
            "\u001b[0;31mSchemaParseException\u001b[0m: No \"type\" property: {'key': {'type': 'record', 'name': 'cdc_test', 'namespace': '_62303464363962622d363835312d346261632d393730332d383130386463353630633431_cdc', 'doc': 'Table 62303464363962622d363835312d346261632d393730332d383130386463353630633431_cdc.cdc_test', 'fields': [{'name': 'message_id', 'type': 'string'}]}, 'value': {'type': 'record', 'name': 'cdc_test', 'namespace': '_62303464363962622d363835312d346261632d393730332d383130386463353630633431_cdc', 'doc': 'Table 62303464363962622d363835312d346261632d393730332d383130386463353630633431_cdc.cdc_test', 'fields': [{'name': 'message', 'type': ['null', 'string'], 'default': None}]}}"
          ]
        }
      ]
    },
    {
      "cell_type": "code",
      "source": [
        "avro_schema_definition = \"\"\"{\n",
        "  \"key\": {\n",
        "    \"type\": \"record\",\n",
        "    \"name\": \"cdc_test\",\n",
        "    \"namespace\": \"_62303464363962622d363835312d346261632d393730332d383130386463353630633431_cdc\",\n",
        "    \"doc\": \"Table 62303464363962622d363835312d346261632d393730332d383130386463353630633431_cdc.cdc_test\",\n",
        "    \"fields\": [\n",
        "      {\n",
        "        \"name\": \"message_id\",\n",
        "        \"type\": \"string\"\n",
        "      }\n",
        "    ]\n",
        "  },\n",
        "  \"value\": {\n",
        "    \"type\": \"record\",\n",
        "    \"name\": \"cdc_test\",\n",
        "    \"namespace\": \"_62303464363962622d363835312d346261632d393730332d383130386463353630633431_cdc\",\n",
        "    \"doc\": \"Table 62303464363962622d363835312d346261632d393730332d383130386463353630633431_cdc.cdc_test\",\n",
        "    \"fields\": [\n",
        "      {\n",
        "        \"name\": \"message\",\n",
        "        \"type\": [\n",
        "          \"string\"\n",
        "        ]\n",
        "      }\n",
        "    ]\n",
        "  }\n",
        "}\"\"\""
      ],
      "metadata": {
        "id": "Lb7KdGiD2CWl"
      },
      "execution_count": 71,
      "outputs": []
    },
    {
      "cell_type": "code",
      "source": [
        "avro_schema_definition = \"\"\"{\n",
        "    \"type\": \"record\",\n",
        "    \"name\": \"cdc_test\",\n",
        "    \"fields\": [\n",
        "        {\"name\": \"message\", \"type\": \"string\"},\n",
        "        {\"name\": \"message_id\", \"type\": \"string\"},\n",
        "    ]\n",
        "}\"\"\""
      ],
      "metadata": {
        "id": "ry97LcYg2pbt"
      },
      "execution_count": 65,
      "outputs": []
    },
    {
      "cell_type": "code",
      "source": [
        "avro_schema_definition = \"\"\"{\n",
        "    \"type\": \"record\",\n",
        "    \"name\": \"cdc_test\",\n",
        "    \"fields\": [\n",
        "        {\"name\": \"message\", \"type\": \"string\"},\n",
        "        {\"name\": \"message_id\", \"type\": \"string\"},\n",
        "    ]\n",
        "}\"\"\""
      ],
      "metadata": {
        "id": "K6LiTXD33hfe"
      },
      "execution_count": 73,
      "outputs": []
    },
    {
      "cell_type": "code",
      "source": [
        "avro_schema = schema.parse(\"\"\"\n",
        "{\"type\": \"record\", \"name\": \"cdc_test\",\"fields\": [\n",
        "        {\"name\": \"message\", \"type\": \"string\"},\n",
        "        {\"name\": \"message_id\", \"type\": \"string\"}\n",
        "\n",
        "    ]}\n",
        "\"\"\")#avro_schema_definition)"
      ],
      "metadata": {
        "id": "l6Ps3y_G2cwJ"
      },
      "execution_count": 82,
      "outputs": []
    },
    {
      "cell_type": "code",
      "source": [
        "pulsar_schema = Schema.encode(obj=avro_schema)"
      ],
      "metadata": {
        "id": "U7Bgc2Nx4d7G",
        "outputId": "9ca89cce-10c6-40fe-d1ed-f95fe2b1cb74",
        "colab": {
          "base_uri": "https://localhost:8080/",
          "height": 179
        }
      },
      "execution_count": 94,
      "outputs": [
        {
          "output_type": "error",
          "ename": "TypeError",
          "evalue": "ignored",
          "traceback": [
            "\u001b[0;31m---------------------------------------------------------------------------\u001b[0m",
            "\u001b[0;31mTypeError\u001b[0m                                 Traceback (most recent call last)",
            "\u001b[0;32m<ipython-input-94-c9817e526915>\u001b[0m in \u001b[0;36m<cell line: 1>\u001b[0;34m()\u001b[0m\n\u001b[0;32m----> 1\u001b[0;31m \u001b[0mpulsar_schema\u001b[0m \u001b[0;34m=\u001b[0m \u001b[0mSchema\u001b[0m\u001b[0;34m.\u001b[0m\u001b[0mencode\u001b[0m\u001b[0;34m(\u001b[0m\u001b[0mobj\u001b[0m\u001b[0;34m=\u001b[0m\u001b[0mavro_schema\u001b[0m\u001b[0;34m)\u001b[0m\u001b[0;34m\u001b[0m\u001b[0;34m\u001b[0m\u001b[0m\n\u001b[0m",
            "\u001b[0;31mTypeError\u001b[0m: Schema.encode() missing 1 required positional argument: 'self'"
          ]
        }
      ]
    },
    {
      "cell_type": "code",
      "source": [
        "pulsar_schema = AvroSchema(avro_schema)"
      ],
      "metadata": {
        "id": "Vm4-d15p-TUh",
        "outputId": "13f96d6b-535a-4543-9c6a-64b0314314f5",
        "colab": {
          "base_uri": "https://localhost:8080/",
          "height": 304
        }
      },
      "execution_count": 108,
      "outputs": [
        {
          "output_type": "error",
          "ename": "Exception",
          "evalue": "ignored",
          "traceback": [
            "\u001b[0;31m---------------------------------------------------------------------------\u001b[0m",
            "\u001b[0;31mException\u001b[0m                                 Traceback (most recent call last)",
            "\u001b[0;32m<ipython-input-108-40d3121556f6>\u001b[0m in \u001b[0;36m<cell line: 1>\u001b[0;34m()\u001b[0m\n\u001b[0;32m----> 1\u001b[0;31m \u001b[0mpulsar_schema\u001b[0m \u001b[0;34m=\u001b[0m \u001b[0mAvroSchema\u001b[0m\u001b[0;34m(\u001b[0m\u001b[0mavro_schema\u001b[0m\u001b[0;34m)\u001b[0m\u001b[0;34m\u001b[0m\u001b[0;34m\u001b[0m\u001b[0m\n\u001b[0m",
            "\u001b[0;32m/usr/local/lib/python3.10/dist-packages/pulsar/schema/schema_avro.py\u001b[0m in \u001b[0;36m__init__\u001b[0;34m(self, _record_cls, _schema_definition)\u001b[0m\n\u001b[1;32m    130\u001b[0m     \u001b[0;32mclass\u001b[0m \u001b[0mAvroSchema\u001b[0m\u001b[0;34m(\u001b[0m\u001b[0mSchema\u001b[0m\u001b[0;34m)\u001b[0m\u001b[0;34m:\u001b[0m\u001b[0;34m\u001b[0m\u001b[0;34m\u001b[0m\u001b[0m\n\u001b[1;32m    131\u001b[0m         \u001b[0;32mdef\u001b[0m \u001b[0m__init__\u001b[0m\u001b[0;34m(\u001b[0m\u001b[0mself\u001b[0m\u001b[0;34m,\u001b[0m \u001b[0m_record_cls\u001b[0m\u001b[0;34m,\u001b[0m \u001b[0m_schema_definition\u001b[0m\u001b[0;34m=\u001b[0m\u001b[0;32mNone\u001b[0m\u001b[0;34m)\u001b[0m\u001b[0;34m:\u001b[0m\u001b[0;34m\u001b[0m\u001b[0;34m\u001b[0m\u001b[0m\n\u001b[0;32m--> 132\u001b[0;31m             raise Exception(\"Avro library support was not found. Make sure to install Pulsar client \" +\n\u001b[0m\u001b[1;32m    133\u001b[0m                             \"with Avro support: pip3 install 'pulsar-client[avro]'\")\n\u001b[1;32m    134\u001b[0m \u001b[0;34m\u001b[0m\u001b[0m\n",
            "\u001b[0;31mException\u001b[0m: Avro library support was not found. Make sure to install Pulsar client with Avro support: pip3 install 'pulsar-client[avro]'"
          ]
        }
      ]
    },
    {
      "cell_type": "code",
      "source": [
        "consumer = client.subscribe(\n",
        "    topic_url,\n",
        "    subscription_name,\n",
        "    #consumer_configuration=consumer_configuration,\n",
        "    schema=avro_schema#pulsar_schema\n",
        ")"
      ],
      "metadata": {
        "id": "wOCyc6ov2hEF",
        "outputId": "f4974574-cbea-40b8-fd6b-1f9bd3cd5e8b",
        "colab": {
          "base_uri": "https://localhost:8080/",
          "height": 399
        }
      },
      "execution_count": 90,
      "outputs": [
        {
          "output_type": "error",
          "ename": "ValueError",
          "evalue": "ignored",
          "traceback": [
            "\u001b[0;31m---------------------------------------------------------------------------\u001b[0m",
            "\u001b[0;31mValueError\u001b[0m                                Traceback (most recent call last)",
            "\u001b[0;32m<ipython-input-90-9a8c487ba924>\u001b[0m in \u001b[0;36m<cell line: 1>\u001b[0;34m()\u001b[0m\n\u001b[0;32m----> 1\u001b[0;31m consumer = client.subscribe(\n\u001b[0m\u001b[1;32m      2\u001b[0m     \u001b[0mtopic_url\u001b[0m\u001b[0;34m,\u001b[0m\u001b[0;34m\u001b[0m\u001b[0;34m\u001b[0m\u001b[0m\n\u001b[1;32m      3\u001b[0m     \u001b[0msubscription_name\u001b[0m\u001b[0;34m,\u001b[0m\u001b[0;34m\u001b[0m\u001b[0;34m\u001b[0m\u001b[0m\n\u001b[1;32m      4\u001b[0m     \u001b[0;31m#consumer_configuration=consumer_configuration,\u001b[0m\u001b[0;34m\u001b[0m\u001b[0;34m\u001b[0m\u001b[0m\n\u001b[1;32m      5\u001b[0m     \u001b[0mschema\u001b[0m\u001b[0;34m=\u001b[0m\u001b[0mavro_schema\u001b[0m\u001b[0;31m#pulsar_schema\u001b[0m\u001b[0;34m\u001b[0m\u001b[0;34m\u001b[0m\u001b[0m\n",
            "\u001b[0;32m/usr/local/lib/python3.10/dist-packages/pulsar/__init__.py\u001b[0m in \u001b[0;36msubscribe\u001b[0;34m(self, topic, subscription_name, consumer_type, schema, message_listener, receiver_queue_size, max_total_receiver_queue_size_across_partitions, consumer_name, unacked_messages_timeout_ms, broker_consumer_stats_cache_time_ms, negative_ack_redelivery_delay_ms, is_read_compacted, properties, pattern_auto_discovery_period, initial_position, crypto_key_reader, replicate_subscription_state_enabled, max_pending_chunked_message, auto_ack_oldest_chunked_message_on_queue_full, start_message_id_inclusive, batch_receive_policy, key_shared_policy, batch_index_ack_enabled, regex_subscription_mode, dead_letter_policy)\u001b[0m\n\u001b[1;32m    876\u001b[0m         \u001b[0m_check_type\u001b[0m\u001b[0;34m(\u001b[0m\u001b[0mstr\u001b[0m\u001b[0;34m,\u001b[0m \u001b[0msubscription_name\u001b[0m\u001b[0;34m,\u001b[0m \u001b[0;34m'subscription_name'\u001b[0m\u001b[0;34m)\u001b[0m\u001b[0;34m\u001b[0m\u001b[0;34m\u001b[0m\u001b[0m\n\u001b[1;32m    877\u001b[0m         \u001b[0m_check_type\u001b[0m\u001b[0;34m(\u001b[0m\u001b[0mConsumerType\u001b[0m\u001b[0;34m,\u001b[0m \u001b[0mconsumer_type\u001b[0m\u001b[0;34m,\u001b[0m \u001b[0;34m'consumer_type'\u001b[0m\u001b[0;34m)\u001b[0m\u001b[0;34m\u001b[0m\u001b[0;34m\u001b[0m\u001b[0m\n\u001b[0;32m--> 878\u001b[0;31m         \u001b[0m_check_type\u001b[0m\u001b[0;34m(\u001b[0m\u001b[0m_schema\u001b[0m\u001b[0;34m.\u001b[0m\u001b[0mSchema\u001b[0m\u001b[0;34m,\u001b[0m \u001b[0mschema\u001b[0m\u001b[0;34m,\u001b[0m \u001b[0;34m'schema'\u001b[0m\u001b[0;34m)\u001b[0m\u001b[0;34m\u001b[0m\u001b[0;34m\u001b[0m\u001b[0m\n\u001b[0m\u001b[1;32m    879\u001b[0m         \u001b[0m_check_type\u001b[0m\u001b[0;34m(\u001b[0m\u001b[0mint\u001b[0m\u001b[0;34m,\u001b[0m \u001b[0mreceiver_queue_size\u001b[0m\u001b[0;34m,\u001b[0m \u001b[0;34m'receiver_queue_size'\u001b[0m\u001b[0;34m)\u001b[0m\u001b[0;34m\u001b[0m\u001b[0;34m\u001b[0m\u001b[0m\n\u001b[1;32m    880\u001b[0m         _check_type(int, max_total_receiver_queue_size_across_partitions,\n",
            "\u001b[0;32m/usr/local/lib/python3.10/dist-packages/pulsar/__init__.py\u001b[0m in \u001b[0;36m_check_type\u001b[0;34m(var_type, var, name)\u001b[0m\n\u001b[1;32m   1751\u001b[0m \u001b[0;32mdef\u001b[0m \u001b[0m_check_type\u001b[0m\u001b[0;34m(\u001b[0m\u001b[0mvar_type\u001b[0m\u001b[0;34m,\u001b[0m \u001b[0mvar\u001b[0m\u001b[0;34m,\u001b[0m \u001b[0mname\u001b[0m\u001b[0;34m)\u001b[0m\u001b[0;34m:\u001b[0m\u001b[0;34m\u001b[0m\u001b[0;34m\u001b[0m\u001b[0m\n\u001b[1;32m   1752\u001b[0m     \u001b[0;32mif\u001b[0m \u001b[0;32mnot\u001b[0m \u001b[0misinstance\u001b[0m\u001b[0;34m(\u001b[0m\u001b[0mvar\u001b[0m\u001b[0;34m,\u001b[0m \u001b[0mvar_type\u001b[0m\u001b[0;34m)\u001b[0m\u001b[0;34m:\u001b[0m\u001b[0;34m\u001b[0m\u001b[0;34m\u001b[0m\u001b[0m\n\u001b[0;32m-> 1753\u001b[0;31m         raise ValueError(\"Argument %s is expected to be of type '%s' and not '%s'\"\n\u001b[0m\u001b[1;32m   1754\u001b[0m                          % (name, var_type.__name__, type(var).__name__))\n\u001b[1;32m   1755\u001b[0m \u001b[0;34m\u001b[0m\u001b[0m\n",
            "\u001b[0;31mValueError\u001b[0m: Argument schema is expected to be of type 'Schema' and not 'RecordSchema'"
          ]
        }
      ]
    },
    {
      "cell_type": "code",
      "source": [
        "pulsar_schema_avro = pulsar.schema.AvroSchema(avro_schema_definition)"
      ],
      "metadata": {
        "id": "3mfDpg_P5S2h",
        "outputId": "3a722ec1-837c-4ce5-bc66-70d7d4e16fbe",
        "colab": {
          "base_uri": "https://localhost:8080/",
          "height": 304
        }
      },
      "execution_count": 97,
      "outputs": [
        {
          "output_type": "error",
          "ename": "Exception",
          "evalue": "ignored",
          "traceback": [
            "\u001b[0;31m---------------------------------------------------------------------------\u001b[0m",
            "\u001b[0;31mException\u001b[0m                                 Traceback (most recent call last)",
            "\u001b[0;32m<ipython-input-97-2346adbcf7e3>\u001b[0m in \u001b[0;36m<cell line: 1>\u001b[0;34m()\u001b[0m\n\u001b[0;32m----> 1\u001b[0;31m \u001b[0mpulsar_schema_avro\u001b[0m \u001b[0;34m=\u001b[0m \u001b[0mpulsar\u001b[0m\u001b[0;34m.\u001b[0m\u001b[0mschema\u001b[0m\u001b[0;34m.\u001b[0m\u001b[0mAvroSchema\u001b[0m\u001b[0;34m(\u001b[0m\u001b[0mavro_schema_definition\u001b[0m\u001b[0;34m)\u001b[0m\u001b[0;34m\u001b[0m\u001b[0;34m\u001b[0m\u001b[0m\n\u001b[0m",
            "\u001b[0;32m/usr/local/lib/python3.10/dist-packages/pulsar/schema/schema_avro.py\u001b[0m in \u001b[0;36m__init__\u001b[0;34m(self, _record_cls, _schema_definition)\u001b[0m\n\u001b[1;32m    130\u001b[0m     \u001b[0;32mclass\u001b[0m \u001b[0mAvroSchema\u001b[0m\u001b[0;34m(\u001b[0m\u001b[0mSchema\u001b[0m\u001b[0;34m)\u001b[0m\u001b[0;34m:\u001b[0m\u001b[0;34m\u001b[0m\u001b[0;34m\u001b[0m\u001b[0m\n\u001b[1;32m    131\u001b[0m         \u001b[0;32mdef\u001b[0m \u001b[0m__init__\u001b[0m\u001b[0;34m(\u001b[0m\u001b[0mself\u001b[0m\u001b[0;34m,\u001b[0m \u001b[0m_record_cls\u001b[0m\u001b[0;34m,\u001b[0m \u001b[0m_schema_definition\u001b[0m\u001b[0;34m=\u001b[0m\u001b[0;32mNone\u001b[0m\u001b[0;34m)\u001b[0m\u001b[0;34m:\u001b[0m\u001b[0;34m\u001b[0m\u001b[0;34m\u001b[0m\u001b[0m\n\u001b[0;32m--> 132\u001b[0;31m             raise Exception(\"Avro library support was not found. Make sure to install Pulsar client \" +\n\u001b[0m\u001b[1;32m    133\u001b[0m                             \"with Avro support: pip3 install 'pulsar-client[avro]'\")\n\u001b[1;32m    134\u001b[0m \u001b[0;34m\u001b[0m\u001b[0m\n",
            "\u001b[0;31mException\u001b[0m: Avro library support was not found. Make sure to install Pulsar client with Avro support: pip3 install 'pulsar-client[avro]'"
          ]
        }
      ]
    },
    {
      "cell_type": "code",
      "source": [
        "!pip3 install 'pulsar-client[avro]'"
      ],
      "metadata": {
        "id": "QFLsSgPB6DIM",
        "outputId": "ebb0991b-75a5-4c2f-f229-ee1fcd4fd941",
        "colab": {
          "base_uri": "https://localhost:8080/"
        }
      },
      "execution_count": 96,
      "outputs": [
        {
          "output_type": "stream",
          "name": "stdout",
          "text": [
            "Requirement already satisfied: pulsar-client[avro] in /usr/local/lib/python3.10/dist-packages (3.3.0)\n",
            "Requirement already satisfied: certifi in /usr/local/lib/python3.10/dist-packages (from pulsar-client[avro]) (2023.7.22)\n",
            "Requirement already satisfied: fastavro==1.7.3 in /usr/local/lib/python3.10/dist-packages (from pulsar-client[avro]) (1.7.3)\n"
          ]
        }
      ]
    },
    {
      "cell_type": "code",
      "source": [],
      "metadata": {
        "id": "xoeLUr0S6IOF"
      },
      "execution_count": null,
      "outputs": []
    }
  ]
}
