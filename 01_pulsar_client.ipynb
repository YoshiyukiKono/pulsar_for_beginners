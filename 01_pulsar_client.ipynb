{
  "nbformat": 4,
  "nbformat_minor": 0,
  "metadata": {
    "colab": {
      "provenance": [],
      "include_colab_link": true
    },
    "kernelspec": {
      "name": "python3",
      "display_name": "Python 3"
    },
    "language_info": {
      "name": "python"
    }
  },
  "cells": [
    {
      "cell_type": "markdown",
      "metadata": {
        "id": "view-in-github",
        "colab_type": "text"
      },
      "source": [
        "<a href=\"https://colab.research.google.com/github/YoshiyukiKono/pulsar_for_beginners/blob/main/01_pulsar_client.ipynb\" target=\"_parent\"><img src=\"https://colab.research.google.com/assets/colab-badge.svg\" alt=\"Open In Colab\"/></a>"
      ]
    },
    {
      "cell_type": "markdown",
      "source": [
        "# Pulsar クライアント開発演習\n",
        "\n",
        "## 演習: 第一部 Pulsar データ入力とAstra DBへのSink\n",
        "\n",
        "## 概要\n",
        "\n",
        "### 事前準備\n",
        " - 環境準備\n",
        "  - Astraアカウント登録・サインイン\n",
        "  - Astra DB データベース、キースペース作成\n",
        "  - Astra Streaming テナント作成\n",
        "\n",
        " - 開発準備\n",
        "  - Astra DB テーブル作成\n",
        "  - Astra Streaming ネームスペース、トピック、サブスクリプション作成\n",
        "  - Astra DB トークン生成\n",
        "  - Astra Streaming トークン生成\n",
        " - データベース連携\n",
        "  - Astra Streaming Sink作成\n",
        "\n",
        "### 演習概要\n",
        "\n",
        " - Pulsarクライアントライブラリインストール\n",
        " - Pulsar接続設定\n",
        " - Pulsarプロデューサー実行\n",
        " - Pulsarコンシューマー実行\n",
        " - Astra DBへのSink結果の確認\n",
        "---\n"
      ],
      "metadata": {
        "id": "1Dba4UhpnMvL"
      }
    },
    {
      "cell_type": "markdown",
      "source": [
        "## 演習\n",
        "\n",
        "\n",
        "### Pulsarクライアントライブラリインストール"
      ],
      "metadata": {
        "id": "mWZpS8bDkrPi"
      }
    },
    {
      "cell_type": "code",
      "source": [
        "!pip install pulsar-client==3.3.0"
      ],
      "metadata": {
        "colab": {
          "base_uri": "https://localhost:8080/"
        },
        "id": "GSMV-zHNZW8U",
        "outputId": "486fdc55-310f-4338-b275-7115ebbd41a3"
      },
      "execution_count": 2,
      "outputs": [
        {
          "output_type": "stream",
          "name": "stdout",
          "text": [
            "Collecting pulsar-client==3.3.0\n",
            "  Downloading pulsar_client-3.3.0-cp310-cp310-manylinux_2_17_x86_64.manylinux2014_x86_64.whl (5.4 MB)\n",
            "\u001b[?25l     \u001b[90m━━━━━━━━━━━━━━━━━━━━━━━━━━━━━━━━━━━━━━━━\u001b[0m \u001b[32m0.0/5.4 MB\u001b[0m \u001b[31m?\u001b[0m eta \u001b[36m-:--:--\u001b[0m\r\u001b[2K     \u001b[91m╸\u001b[0m\u001b[90m━━━━━━━━━━━━━━━━━━━━━━━━━━━━━━━━━━━━━━━\u001b[0m \u001b[32m0.1/5.4 MB\u001b[0m \u001b[31m2.3 MB/s\u001b[0m eta \u001b[36m0:00:03\u001b[0m\r\u001b[2K     \u001b[91m━━━━\u001b[0m\u001b[90m╺\u001b[0m\u001b[90m━━━━━━━━━━━━━━━━━━━━━━━━━━━━━━━━━━━\u001b[0m \u001b[32m0.6/5.4 MB\u001b[0m \u001b[31m8.9 MB/s\u001b[0m eta \u001b[36m0:00:01\u001b[0m\r\u001b[2K     \u001b[91m━━━━━━━━━━━━━━━━━━━━━━━━━━━━━━━━━━\u001b[0m\u001b[90m╺\u001b[0m\u001b[90m━━━━━\u001b[0m \u001b[32m4.6/5.4 MB\u001b[0m \u001b[31m47.2 MB/s\u001b[0m eta \u001b[36m0:00:01\u001b[0m\r\u001b[2K     \u001b[91m━━━━━━━━━━━━━━━━━━━━━━━━━━━━━━━━━━━━━━━\u001b[0m\u001b[91m╸\u001b[0m \u001b[32m5.4/5.4 MB\u001b[0m \u001b[31m51.7 MB/s\u001b[0m eta \u001b[36m0:00:01\u001b[0m\r\u001b[2K     \u001b[90m━━━━━━━━━━━━━━━━━━━━━━━━━━━━━━━━━━━━━━━━\u001b[0m \u001b[32m5.4/5.4 MB\u001b[0m \u001b[31m37.4 MB/s\u001b[0m eta \u001b[36m0:00:00\u001b[0m\n",
            "\u001b[?25hRequirement already satisfied: certifi in /usr/local/lib/python3.10/dist-packages (from pulsar-client==3.3.0) (2023.7.22)\n",
            "Installing collected packages: pulsar-client\n",
            "Successfully installed pulsar-client-3.3.0\n"
          ]
        }
      ]
    },
    {
      "cell_type": "markdown",
      "source": [
        "### Astra Streaming 接続設定"
      ],
      "metadata": {
        "id": "R5MNiiVFo0X1"
      }
    },
    {
      "cell_type": "code",
      "source": [
        "service_url = input(\"service url:\")\n"
      ],
      "metadata": {
        "id": "GHCnV6Muaix-",
        "outputId": "ed35ef2f-849e-4ef5-d18e-1d5ef3af4f9f",
        "colab": {
          "base_uri": "https://localhost:8080/"
        }
      },
      "execution_count": 11,
      "outputs": [
        {
          "name": "stdout",
          "output_type": "stream",
          "text": [
            "service url:pulsar+ssl://pulsar-gcp-useast1.streaming.datastax.com:6651\n"
          ]
        }
      ]
    },
    {
      "cell_type": "code",
      "source": [
        "import getpass\n",
        "\n",
        "token = getpass.getpass()\n",
        "print(\"token:\" + token[0:5] + \"...\" + token[-5:])\n",
        "print(\"token length:\" + str(len(token)))"
      ],
      "metadata": {
        "id": "xRkA8DkPajAg",
        "outputId": "2c07cd2c-a48c-4a37-a965-4786ca389948",
        "colab": {
          "base_uri": "https://localhost:8080/"
        }
      },
      "execution_count": 6,
      "outputs": [
        {
          "output_type": "stream",
          "name": "stdout",
          "text": [
            "··········\n",
            "token:eyJhb...euW8Q\n",
            "token length:548\n"
          ]
        }
      ]
    },
    {
      "cell_type": "code",
      "source": [
        "your_tenant_name = input(\"tenant name:\")"
      ],
      "metadata": {
        "id": "tOLQ_vIhmzSN",
        "outputId": "8f0dd0a2-7060-4853-edf8-b3022a858bf9",
        "colab": {
          "base_uri": "https://localhost:8080/"
        }
      },
      "execution_count": 7,
      "outputs": [
        {
          "name": "stdout",
          "output_type": "stream",
          "text": [
            "tenant name:cdc\n"
          ]
        }
      ]
    },
    {
      "cell_type": "code",
      "source": [
        "your_namespace = input(\"namespace:\")\n",
        "your_topic_name = input(\"topic name:\")\n",
        "topic_url = 'persistent://' + your_tenant_name + '/' + your_namespace + '/' + your_topic_name\n",
        "print(\"topic url:\" + topic_url)"
      ],
      "metadata": {
        "id": "SgsrE9D_nIZY",
        "outputId": "88d397b6-a3ae-4bb5-8caf-fa8d718b94a3",
        "colab": {
          "base_uri": "https://localhost:8080/"
        }
      },
      "execution_count": 8,
      "outputs": [
        {
          "output_type": "stream",
          "name": "stdout",
          "text": [
            "namespace:default\n",
            "topic name:astrasink\n",
            "topic url:persistent://cdc/default/astrasink\n"
          ]
        }
      ]
    },
    {
      "cell_type": "code",
      "source": [
        "import pulsar\n",
        "\n",
        "client = pulsar.Client(service_url,\n",
        "                        authentication=pulsar.AuthenticationToken(token))\n",
        "topic_partitions = client.get_topic_partitions(topic_url)\n",
        "print(topic_partitions)"
      ],
      "metadata": {
        "id": "k3DxYZlSnc6W",
        "outputId": "5a13e08a-72af-414c-e3e5-6ae843b18233",
        "colab": {
          "base_uri": "https://localhost:8080/"
        }
      },
      "execution_count": 12,
      "outputs": [
        {
          "output_type": "stream",
          "name": "stdout",
          "text": [
            "['persistent://cdc/default/astrasink']\n"
          ]
        }
      ]
    },
    {
      "cell_type": "markdown",
      "source": [
        "## Pulsarプロデューサー実行\n",
        "\n",
        "実行前にサブスクリプションを作成・確認しておきます（Astraコントロールプレーンの下記パスより）。\n",
        "\n",
        "Dashboard > Streaming (Tenants) > [利用テナント] > [Namespace and Topics]   "
      ],
      "metadata": {
        "id": "IKhGrP4LmNKx"
      }
    },
    {
      "cell_type": "code",
      "source": [
        "YOUR_NAME = input(\"your name:\")"
      ],
      "metadata": {
        "id": "w9_Jf-AbgKPJ",
        "outputId": "fe4fc0b4-77bf-49d4-8cb7-1fae49845d1b",
        "colab": {
          "base_uri": "https://localhost:8080/"
        }
      },
      "execution_count": 18,
      "outputs": [
        {
          "name": "stdout",
          "output_type": "stream",
          "text": [
            "your name:taro\n"
          ]
        }
      ]
    },
    {
      "cell_type": "code",
      "source": [
        "subscription_name = input(\"subsuctiption name:\")"
      ],
      "metadata": {
        "id": "uUHktHQUmy-s",
        "outputId": "70a15946-8788-4a6a-8449-d736ddbf88a3",
        "colab": {
          "base_uri": "https://localhost:8080/"
        }
      },
      "execution_count": 20,
      "outputs": [
        {
          "name": "stdout",
          "output_type": "stream",
          "text": [
            "subsuctiption name:sub\n"
          ]
        }
      ]
    },
    {
      "cell_type": "markdown",
      "source": [
        "次のプロデューサーの実行には、サブスクリプション名は不要です。\n",
        "また、コンシューマー実行時に、指定したサブスクリプションがPulsarテナントに存在しない場合、自動的に作成されます。\n",
        "ただし、そのサブスクリプションに送信されたメッセージの購読は、サブスクリプション作成以降に始まるので、ここでは先にサブスクリプションをテナント上で作成しました。"
      ],
      "metadata": {
        "id": "4RiNtKt_iAqc"
      }
    },
    {
      "cell_type": "code",
      "source": [
        "from pulsar.schema import *\n",
        "\n",
        "class Message(Record):\n",
        "    message_id = String()\n",
        "    message = String()\n",
        "\n",
        "producer = client.create_producer(topic_url,schema=JsonSchema(Message))\n",
        "\n",
        "message = Message()\n",
        "\n",
        "for i in range(20):\n",
        "    message.message_id = str(i)\n",
        "    message.message = \"Hello \" + YOUR_NAME + str(i)\n",
        "    producer.send(message)\n",
        "\n",
        "producer.close()"
      ],
      "metadata": {
        "id": "IGC6xkiFoJk2"
      },
      "execution_count": 22,
      "outputs": []
    },
    {
      "cell_type": "markdown",
      "source": [
        "## Pulsarコンシューマー実行"
      ],
      "metadata": {
        "id": "wDvW5CX-nCq6"
      }
    },
    {
      "cell_type": "code",
      "source": [
        "import pulsar\n",
        "import time\n",
        "\n",
        "MODE_RUNNING = False\n",
        "\n",
        "consumer = client.subscribe(topic_url, subscription_name)\n",
        "\n",
        "try:\n",
        "    waitingForMsg = True\n",
        "    while waitingForMsg:\n",
        "        try:\n",
        "            msg = consumer.receive(2000)\n",
        "\n",
        "            try:\n",
        "                print(\"Received message '{}' id='{}'\".format(msg.data(), msg.message_id()))\n",
        "                # Acknowledging the message to remove from message backlog\n",
        "                consumer.acknowledge(msg)\n",
        "            except:\n",
        "                consumer.negative_acknowledge(msg)\n",
        "\n",
        "        except Exception as ex:\n",
        "            print(ex)\n",
        "            if MODE_RUNNING:\n",
        "                print(\"Still waiting for a message...\");\n",
        "            else:\n",
        "                print(\"Stop waiting for a message.\");\n",
        "                waitingForMsg = False\n",
        "        time.sleep(1)\n",
        "\n",
        "finally:\n",
        "  consumer.close()"
      ],
      "metadata": {
        "id": "ExShWr1jvEB7",
        "outputId": "1b04c5d7-f5cf-4dc3-db71-b525204f0901",
        "colab": {
          "base_uri": "https://localhost:8080/"
        }
      },
      "execution_count": 23,
      "outputs": [
        {
          "output_type": "stream",
          "name": "stdout",
          "text": [
            "Received message 'b'{\\n \"message_id\": \"0\",\\n \"message\": \"Hello taro0\"\\n}'' id='(441375,19,-1,-1)'\n",
            "Received message 'b'{\\n \"message_id\": \"1\",\\n \"message\": \"Hello taro1\"\\n}'' id='(441375,20,-1,-1)'\n",
            "Received message 'b'{\\n \"message_id\": \"2\",\\n \"message\": \"Hello taro2\"\\n}'' id='(441375,21,-1,-1)'\n",
            "Received message 'b'{\\n \"message_id\": \"3\",\\n \"message\": \"Hello taro3\"\\n}'' id='(441375,22,-1,-1)'\n",
            "Received message 'b'{\\n \"message_id\": \"4\",\\n \"message\": \"Hello taro4\"\\n}'' id='(441375,23,-1,-1)'\n",
            "Received message 'b'{\\n \"message_id\": \"5\",\\n \"message\": \"Hello taro5\"\\n}'' id='(441375,24,-1,-1)'\n",
            "Received message 'b'{\\n \"message_id\": \"6\",\\n \"message\": \"Hello taro6\"\\n}'' id='(441375,25,-1,-1)'\n",
            "Received message 'b'{\\n \"message_id\": \"7\",\\n \"message\": \"Hello taro7\"\\n}'' id='(441375,26,-1,-1)'\n",
            "Received message 'b'{\\n \"message_id\": \"8\",\\n \"message\": \"Hello taro8\"\\n}'' id='(441375,27,-1,-1)'\n",
            "Received message 'b'{\\n \"message_id\": \"9\",\\n \"message\": \"Hello taro9\"\\n}'' id='(441375,28,-1,-1)'\n",
            "Received message 'b'{\\n \"message_id\": \"10\",\\n \"message\": \"Hello taro10\"\\n}'' id='(441375,29,-1,-1)'\n",
            "Received message 'b'{\\n \"message_id\": \"11\",\\n \"message\": \"Hello taro11\"\\n}'' id='(441375,30,-1,-1)'\n",
            "Received message 'b'{\\n \"message_id\": \"12\",\\n \"message\": \"Hello taro12\"\\n}'' id='(441375,31,-1,-1)'\n",
            "Received message 'b'{\\n \"message_id\": \"13\",\\n \"message\": \"Hello taro13\"\\n}'' id='(441375,32,-1,-1)'\n",
            "Received message 'b'{\\n \"message_id\": \"14\",\\n \"message\": \"Hello taro14\"\\n}'' id='(441375,33,-1,-1)'\n",
            "Received message 'b'{\\n \"message_id\": \"15\",\\n \"message\": \"Hello taro15\"\\n}'' id='(441375,34,-1,-1)'\n",
            "Received message 'b'{\\n \"message_id\": \"16\",\\n \"message\": \"Hello taro16\"\\n}'' id='(441375,35,-1,-1)'\n",
            "Received message 'b'{\\n \"message_id\": \"17\",\\n \"message\": \"Hello taro17\"\\n}'' id='(441375,36,-1,-1)'\n",
            "Received message 'b'{\\n \"message_id\": \"18\",\\n \"message\": \"Hello taro18\"\\n}'' id='(441375,37,-1,-1)'\n",
            "Received message 'b'{\\n \"message_id\": \"19\",\\n \"message\": \"Hello taro19\"\\n}'' id='(441375,38,-1,-1)'\n",
            "Pulsar error: TimeOut\n",
            "Stop waiting for a message.\n"
          ]
        }
      ]
    },
    {
      "cell_type": "code",
      "source": [
        "client.close()"
      ],
      "metadata": {
        "id": "qZkFPLVtutls"
      },
      "execution_count": null,
      "outputs": []
    },
    {
      "cell_type": "markdown",
      "source": [
        "注意: Astraのデータベースは、トライアル利用の際に一定期間利用していない場合、休止(Hibernate)されます。Astra StreamingのSink設定は、Sink先のデータベースが一旦休止状態に入ると、データベースの再開(Resume)後にリスタートする必要があります。\n",
        "この演習を、以前作成したAstra環境を使って、再実行する場合には、上記についてご注意ください。"
      ],
      "metadata": {
        "id": "7or1qcTXiyKE"
      }
    },
    {
      "cell_type": "code",
      "source": [],
      "metadata": {
        "id": "xoeLUr0S6IOF"
      },
      "execution_count": null,
      "outputs": []
    }
  ]
}